{
 "cells": [
  {
   "cell_type": "markdown",
   "metadata": {},
   "source": [
    "# Part 1"
   ]
  },
  {
   "cell_type": "code",
   "execution_count": 14,
   "metadata": {},
   "outputs": [],
   "source": [
    "def process_input(file):\n",
    "\n",
    "    with open(file, \"r\") as f:\n",
    "        lines = [list(map(int, line.strip().split())) for line in f.readlines()]\n",
    "        \n",
    "    return lines"
   ]
  },
  {
   "cell_type": "markdown",
   "metadata": {},
   "source": [
    "## Example"
   ]
  },
  {
   "cell_type": "code",
   "execution_count": 228,
   "metadata": {},
   "outputs": [
    {
     "data": {
      "text/plain": [
       "114"
      ]
     },
     "execution_count": 228,
     "metadata": {},
     "output_type": "execute_result"
    }
   ],
   "source": [
    "histories = process_input('example.in')\n",
    "\n",
    "def diff(lst):\n",
    "    lst3 = []\n",
    "    lst1 = lst[:-1] # cannot have lst1, lst2 = lst[:-1], lst[1:] for some reason\n",
    "    lst2 = lst[1:]\n",
    "    for a, b in zip(lst1, lst2):\n",
    "        diff = b - a\n",
    "        lst3.append(diff)\n",
    "    return lst3\n",
    "\n",
    "\n",
    "def get_sequences_for_one_history(hist):\n",
    "    zero = False # flag for first assumption: there is no zeros\n",
    "    sequence = hist\n",
    "    all_sequences_incl_hist = [hist]\n",
    "\n",
    "    while zero is False:\n",
    "\n",
    "        sequence = diff(sequence)\n",
    "        all_sequences_incl_hist.append(sequence)\n",
    "        # zero = reduce(lambda a, b: b-a, sequence)\n",
    "        # zero = sum(sequence)   # not work because it could stop early aka sum(-1,1,-1,1) = 0 while we need (0,0,0,0)\n",
    "        zero = all(x == 0 for x in sequence)\n",
    "\n",
    "    return all_sequences_incl_hist\n",
    "\n",
    "\n",
    "def extrapolate(hist):\n",
    "    # extrapolate next value for each history\n",
    "\n",
    "    all_sequences_incl_hist = get_sequences_for_one_history(hist)\n",
    "    extrapolated = all_sequences_incl_hist\n",
    "\n",
    "    if len(all_sequences_incl_hist) > 1: # meaning there are zeros\n",
    "        last_ele_prev_seq = 0\n",
    "\n",
    "        for idx, seq in reversed(list(enumerate(all_sequences_incl_hist))):  # No copy is created, the elements are reversed on the fly while traversing\n",
    "\n",
    "            fill_placeholder = seq[-1] + last_ele_prev_seq\n",
    "            extrapolated[idx].append(fill_placeholder)\n",
    "\n",
    "            # after placeholder, update last_ele_prev_seq for later sequence update:\n",
    "            last_ele_prev_seq = fill_placeholder\n",
    "\n",
    "    extrapolated_element = extrapolated[0][-1]\n",
    "\n",
    "    return extrapolated_element\n",
    "\n",
    "\n",
    "def result(histories):\n",
    "    sums = 0\n",
    "    for hist in histories:\n",
    "        next_value_in_history = extrapolate(hist)\n",
    "        sums += next_value_in_history\n",
    "    return sums\n",
    "\n",
    "result(histories)"
   ]
  },
  {
   "cell_type": "markdown",
   "metadata": {},
   "source": [
    "## Input"
   ]
  },
  {
   "cell_type": "code",
   "execution_count": 229,
   "metadata": {},
   "outputs": [
    {
     "data": {
      "text/plain": [
       "1882395907"
      ]
     },
     "execution_count": 229,
     "metadata": {},
     "output_type": "execute_result"
    }
   ],
   "source": [
    "histories = process_input(\"input.in\")\n",
    "result(histories)"
   ]
  },
  {
   "cell_type": "markdown",
   "metadata": {},
   "source": [
    "# Part 2"
   ]
  },
  {
   "cell_type": "markdown",
   "metadata": {},
   "source": [
    "## Example"
   ]
  },
  {
   "cell_type": "code",
   "execution_count": 235,
   "metadata": {},
   "outputs": [
    {
     "data": {
      "text/plain": [
       "2"
      ]
     },
     "execution_count": 235,
     "metadata": {},
     "output_type": "execute_result"
    }
   ],
   "source": [
    "histories = process_input('example.in')\n",
    "\n",
    "def diff(lst):\n",
    "    lst3 = []\n",
    "    lst1 = lst[:-1] # cannot have lst1, lst2 = lst[:-1], lst[1:] for some reason\n",
    "    lst2 = lst[1:]\n",
    "    for a, b in zip(lst1, lst2):\n",
    "        diff = b - a\n",
    "        lst3.append(diff)\n",
    "    return lst3\n",
    "\n",
    "\n",
    "def get_sequences_for_one_history(hist):\n",
    "    zero = False # flag for first assumption: there is no zeros\n",
    "    sequence = hist\n",
    "    all_sequences_incl_hist = [hist]\n",
    "\n",
    "    while zero is False:\n",
    "\n",
    "        sequence = diff(sequence)\n",
    "        all_sequences_incl_hist.append(sequence)\n",
    "        # zero = reduce(lambda a, b: b-a, sequence)\n",
    "        # zero = sum(sequence)   # not work because it could stop early aka sum(-1,1,-1,1) = 0 while we need (0,0,0,0)\n",
    "        zero = all(x == 0 for x in sequence)\n",
    "\n",
    "    return all_sequences_incl_hist\n",
    "\n",
    "\n",
    "\n",
    "###### Adjust for part 2\n",
    "\n",
    "def extrapolate(hist):\n",
    "    # extrapolate next value for each history\n",
    "\n",
    "    all_sequences_incl_hist = get_sequences_for_one_history(hist)\n",
    "    extrapolated = all_sequences_incl_hist\n",
    "\n",
    "    if len(all_sequences_incl_hist) > 1: # meaning there are zeros\n",
    "        last_ele_prev_seq = 0\n",
    "\n",
    "        for idx, seq in reversed(list(enumerate(all_sequences_incl_hist))):  # No copy is created, the elements are reversed on the fly while traversing\n",
    "\n",
    "            fill_placeholder = seq[0] - last_ele_prev_seq   # main adjust for Part 2\n",
    "            extrapolated[idx].insert(0, fill_placeholder)   # O(n)\n",
    "\n",
    "            # after placeholder, update last_ele_prev_seq for later sequence update:\n",
    "            last_ele_prev_seq = fill_placeholder\n",
    "\n",
    "    extrapolated_element = extrapolated[0][0]\n",
    "\n",
    "    return extrapolated_element\n",
    "\n",
    "\n",
    "def result(histories):\n",
    "    sums = 0\n",
    "    for hist in histories:\n",
    "        next_value_in_history = extrapolate(hist)\n",
    "        sums += next_value_in_history\n",
    "    return sums\n",
    "\n",
    "result(histories)"
   ]
  },
  {
   "cell_type": "markdown",
   "metadata": {},
   "source": [
    "## Input"
   ]
  },
  {
   "cell_type": "code",
   "execution_count": 237,
   "metadata": {},
   "outputs": [
    {
     "data": {
      "text/plain": [
       "1005"
      ]
     },
     "execution_count": 237,
     "metadata": {},
     "output_type": "execute_result"
    }
   ],
   "source": [
    "histories = process_input(\"input.in\")\n",
    "result(histories)"
   ]
  },
  {
   "cell_type": "markdown",
   "metadata": {},
   "source": [
    "## Deque for inserting O(1)"
   ]
  },
  {
   "cell_type": "code",
   "execution_count": 238,
   "metadata": {},
   "outputs": [
    {
     "data": {
      "text/plain": [
       "1005"
      ]
     },
     "execution_count": 238,
     "metadata": {},
     "output_type": "execute_result"
    }
   ],
   "source": [
    "# deque for inserting to beginning takes O(1)\n",
    "\n",
    "histories = process_input('input.in')\n",
    "\n",
    "def diff(lst):\n",
    "    lst3 = []\n",
    "    lst1 = lst[:-1] # cannot have lst1, lst2 = lst[:-1], lst[1:] for some reason\n",
    "    lst2 = lst[1:]\n",
    "    for a, b in zip(lst1, lst2):\n",
    "        diff = b - a\n",
    "        lst3.append(diff)\n",
    "    return lst3\n",
    "\n",
    "\n",
    "def get_sequences_for_one_history(hist):\n",
    "    zero = False # flag for first assumption: there is no zeros\n",
    "    sequence = hist\n",
    "    all_sequences_incl_hist = [hist]\n",
    "\n",
    "    while zero is False:\n",
    "\n",
    "        sequence = diff(sequence)\n",
    "        all_sequences_incl_hist.append(sequence)\n",
    "        # zero = reduce(lambda a, b: b-a, sequence)\n",
    "        # zero = sum(sequence)   # not work because it could stop early aka sum(-1,1,-1,1) = 0 while we need (0,0,0,0)\n",
    "        zero = all(x == 0 for x in sequence)\n",
    "\n",
    "    return all_sequences_incl_hist\n",
    "\n",
    "\n",
    "\n",
    "###### Adjust for part 2 DEQUE\n",
    "\n",
    "from collections import deque\n",
    "\n",
    "def extrapolate(hist):\n",
    "    # extrapolate next value for each history\n",
    "\n",
    "    all_sequences_incl_hist = get_sequences_for_one_history(hist)\n",
    "    extrapolated = [deque(seq) for seq in all_sequences_incl_hist]\n",
    "\n",
    "    if len(all_sequences_incl_hist) > 1: # meaning there are zeros\n",
    "        last_ele_prev_seq = 0\n",
    "\n",
    "        for idx, seq in reversed(list(enumerate(all_sequences_incl_hist))):  # No copy is created, the elements are reversed on the fly while traversing\n",
    "\n",
    "            fill_placeholder = seq[0] - last_ele_prev_seq    \n",
    "            \n",
    "            extrapolated[idx].appendleft(fill_placeholder)   # O(1)\n",
    "\n",
    "            last_ele_prev_seq = fill_placeholder\n",
    "\n",
    "    extrapolated_element = extrapolated[0][0]\n",
    "\n",
    "    return extrapolated_element\n",
    "\n",
    "\n",
    "def result(histories):\n",
    "    sums = 0\n",
    "    for hist in histories:\n",
    "        next_value_in_history = extrapolate(hist)\n",
    "        sums += next_value_in_history\n",
    "    return sums\n",
    "\n",
    "result(histories)"
   ]
  }
 ],
 "metadata": {
  "kernelspec": {
   "display_name": "venv",
   "language": "python",
   "name": "python3"
  },
  "language_info": {
   "codemirror_mode": {
    "name": "ipython",
    "version": 3
   },
   "file_extension": ".py",
   "mimetype": "text/x-python",
   "name": "python",
   "nbconvert_exporter": "python",
   "pygments_lexer": "ipython3",
   "version": "3.11.4"
  }
 },
 "nbformat": 4,
 "nbformat_minor": 2
}
