{
 "cells": [
  {
   "cell_type": "markdown",
   "metadata": {},
   "source": [
    "# Part 1"
   ]
  },
  {
   "cell_type": "code",
   "execution_count": 72,
   "metadata": {},
   "outputs": [],
   "source": [
    "# define funcs\n",
    "\n",
    "from collections import defaultdict\n",
    "import re\n",
    "\n",
    "def process_input(file):\n",
    "    with open(file, 'r') as f:\n",
    "        network_dict = defaultdict(tuple)\n",
    "        lines = [line.strip() for line in f.readlines()]\n",
    "\n",
    "        instruction = lines[0]\n",
    "        network = lines[2:]\n",
    "\n",
    "        for line in network:\n",
    "            k = line.split('=')[0].strip()\n",
    "            bracket = line.split('=')[1].split(',')\n",
    "            instr = tuple(''.join(re.findall(\"\\w\", element)) for element in bracket)\n",
    "            network_dict[k] += instr\n",
    "\n",
    "    return instruction, network_dict"
   ]
  },
  {
   "cell_type": "markdown",
   "metadata": {},
   "source": [
    "## Example 1"
   ]
  },
  {
   "cell_type": "code",
   "execution_count": 73,
   "metadata": {},
   "outputs": [
    {
     "data": {
      "text/plain": [
       "('RL',\n",
       " defaultdict(tuple,\n",
       "             {'AAA': ('BBB', 'CCC'),\n",
       "              'BBB': ('DDD', 'EEE'),\n",
       "              'CCC': ('ZZZ', 'GGG'),\n",
       "              'DDD': ('DDD', 'DDD'),\n",
       "              'EEE': ('EEE', 'EEE'),\n",
       "              'GGG': ('GGG', 'GGG'),\n",
       "              'ZZZ': ('ZZZ', 'ZZZ')}))"
      ]
     },
     "execution_count": 73,
     "metadata": {},
     "output_type": "execute_result"
    }
   ],
   "source": [
    "instruction, network = process_input('example1.in')\n",
    "instruction, network"
   ]
  },
  {
   "cell_type": "code",
   "execution_count": 74,
   "metadata": {},
   "outputs": [
    {
     "name": "stdout",
     "output_type": "stream",
     "text": [
      "2\n"
     ]
    }
   ],
   "source": [
    "start = 'AAA'\n",
    "step_counter = 0 \n",
    "\n",
    "for i in instruction:\n",
    "    if i == 'L':\n",
    "        new_start = network[start][0]\n",
    "        step_counter += 1\n",
    "        if new_start == 'ZZZ':\n",
    "            print(step_counter)\n",
    "        else:\n",
    "            start = new_start\n",
    "    elif i == 'R':\n",
    "        new_start = network[start][1]\n",
    "        step_counter += 1\n",
    "        if new_start == 'ZZZ':\n",
    "            print(step_counter)\n",
    "        else:\n",
    "            start = new_start"
   ]
  },
  {
   "cell_type": "markdown",
   "metadata": {},
   "source": [
    "## Example 2"
   ]
  },
  {
   "cell_type": "code",
   "execution_count": 75,
   "metadata": {},
   "outputs": [
    {
     "data": {
      "text/plain": [
       "('LLR',\n",
       " defaultdict(tuple,\n",
       "             {'AAA': ('BBB', 'BBB'),\n",
       "              'BBB': ('AAA', 'ZZZ'),\n",
       "              'ZZZ': ('ZZZ', 'ZZZ')}))"
      ]
     },
     "execution_count": 75,
     "metadata": {},
     "output_type": "execute_result"
    }
   ],
   "source": [
    "instruction, network = process_input('example2.in')\n",
    "\n",
    "instruction, network"
   ]
  },
  {
   "cell_type": "code",
   "execution_count": 76,
   "metadata": {},
   "outputs": [
    {
     "data": {
      "text/plain": [
       "6"
      ]
     },
     "execution_count": 76,
     "metadata": {},
     "output_type": "execute_result"
    }
   ],
   "source": [
    "def count_steps():\n",
    "\n",
    "    step_counter = 0 \n",
    "    start = 'AAA'\n",
    "\n",
    "    while start != 'ZZZ':\n",
    "        for i in instruction:\n",
    "            \n",
    "            if i == 'L':\n",
    "                new_start = network[start][0]\n",
    "                step_counter += 1\n",
    "                if new_start == 'ZZZ':\n",
    "                    return step_counter\n",
    "                start = new_start\n",
    "\n",
    "            elif i == 'R':\n",
    "                new_start = network[start][1]\n",
    "                step_counter += 1\n",
    "                if new_start == 'ZZZ':\n",
    "                    return step_counter\n",
    "                start = new_start\n",
    "\n",
    "count_steps()"
   ]
  },
  {
   "cell_type": "markdown",
   "metadata": {},
   "source": [
    "## Input"
   ]
  },
  {
   "cell_type": "code",
   "execution_count": 77,
   "metadata": {},
   "outputs": [
    {
     "data": {
      "text/plain": [
       "21883"
      ]
     },
     "execution_count": 77,
     "metadata": {},
     "output_type": "execute_result"
    }
   ],
   "source": [
    "instruction, network = process_input('input.in')\n",
    "count_steps()"
   ]
  },
  {
   "cell_type": "markdown",
   "metadata": {},
   "source": [
    "# Part 2"
   ]
  },
  {
   "cell_type": "markdown",
   "metadata": {},
   "source": [
    "## Example 3"
   ]
  },
  {
   "cell_type": "code",
   "execution_count": 122,
   "metadata": {},
   "outputs": [
    {
     "data": {
      "text/plain": [
       "('LR',\n",
       " defaultdict(tuple,\n",
       "             {'11A': ('11B', 'XXX'),\n",
       "              '11B': ('XXX', '11Z'),\n",
       "              '11Z': ('11B', 'XXX'),\n",
       "              '22A': ('22B', 'XXX'),\n",
       "              '22B': ('22C', '22C'),\n",
       "              '22C': ('22Z', '22Z'),\n",
       "              '22Z': ('22B', '22B'),\n",
       "              'XXX': ('XXX', 'XXX')}))"
      ]
     },
     "execution_count": 122,
     "metadata": {},
     "output_type": "execute_result"
    }
   ],
   "source": [
    "instruction, network = process_input('example3.in')\n",
    "instruction, network"
   ]
  },
  {
   "cell_type": "code",
   "execution_count": 123,
   "metadata": {},
   "outputs": [
    {
     "data": {
      "text/plain": [
       "('11A', '22A')"
      ]
     },
     "execution_count": 123,
     "metadata": {},
     "output_type": "execute_result"
    }
   ],
   "source": [
    "nodes_end_A = tuple(element for element in network.keys() if element[-1] == 'A')\n",
    "nodes_end_A"
   ]
  },
  {
   "cell_type": "code",
   "execution_count": 124,
   "metadata": {},
   "outputs": [
    {
     "data": {
      "text/plain": [
       "6"
      ]
     },
     "execution_count": 124,
     "metadata": {},
     "output_type": "execute_result"
    }
   ],
   "source": [
    "def count_steps():\n",
    "\n",
    "    nodes_end_A = tuple(element for element in network.keys() if element[-1] == 'A')\n",
    "\n",
    "\n",
    "    start_nodes = nodes_end_A\n",
    "    count_nodes_end_Z = 0\n",
    "    count_nodes_end_A = len(start_nodes)\n",
    "\n",
    "    step_counter = 0\n",
    "\n",
    "    while count_nodes_end_Z != count_nodes_end_A:\n",
    "\n",
    "        for i in instruction:\n",
    "\n",
    "            new_start_nodes = list()\n",
    "\n",
    "            for node in start_nodes:\n",
    "                new_start_nodes.append(network[node][0]) if i == 'L' else new_start_nodes.append(network[node][1])\n",
    "\n",
    "            step_counter += 1\n",
    "\n",
    "            in_loop_count_nodes_end_Z = len([element[-1] for element in new_start_nodes\n",
    "                                            if element[-1] == 'Z'])\n",
    "\n",
    "            \n",
    "            if in_loop_count_nodes_end_Z == count_nodes_end_A:\n",
    "                return step_counter\n",
    "\n",
    "            count_nodes_end_Z = in_loop_count_nodes_end_Z\n",
    "            start_nodes = tuple(new_start_nodes)\n",
    "\n",
    "count_steps()"
   ]
  },
  {
   "cell_type": "markdown",
   "metadata": {},
   "source": [
    "## Input"
   ]
  },
  {
   "cell_type": "markdown",
   "metadata": {},
   "source": [
    "There is no brute force solution that works. Let's try least common multiplier (LCM) or BFS.\n",
    "\n",
    "Bless this subreddit: https://www.reddit.com/r/adventofcode/comments/18dtmin/comment/kckf5jg/?utm_source=share&utm_medium=web3x&utm_name=web3xcss&utm_term=1&utm_content=share_button"
   ]
  },
  {
   "cell_type": "code",
   "execution_count": 139,
   "metadata": {},
   "outputs": [
    {
     "ename": "KeyboardInterrupt",
     "evalue": "",
     "output_type": "error",
     "traceback": [
      "\u001b[1;31m---------------------------------------------------------------------------\u001b[0m",
      "\u001b[1;31mKeyboardInterrupt\u001b[0m                         Traceback (most recent call last)",
      "Cell \u001b[1;32mIn[139], line 2\u001b[0m\n\u001b[0;32m      1\u001b[0m instruction, network \u001b[38;5;241m=\u001b[39m process_input(\u001b[38;5;124m'\u001b[39m\u001b[38;5;124minput.in\u001b[39m\u001b[38;5;124m'\u001b[39m)\n\u001b[1;32m----> 2\u001b[0m \u001b[43mcount_steps\u001b[49m\u001b[43m(\u001b[49m\u001b[43m)\u001b[49m \u001b[38;5;66;03m# more than 5 mins\u001b[39;00m\n",
      "Cell \u001b[1;32mIn[138], line 50\u001b[0m, in \u001b[0;36mcount_steps\u001b[1;34m()\u001b[0m\n\u001b[0;32m     47\u001b[0m in_loop_count_nodes_end_Z \u001b[38;5;241m=\u001b[39m \u001b[38;5;28mlen\u001b[39m([element[\u001b[38;5;241m-\u001b[39m\u001b[38;5;241m1\u001b[39m] \u001b[38;5;28;01mfor\u001b[39;00m element \u001b[38;5;129;01min\u001b[39;00m new_start_nodes \u001b[38;5;28;01mif\u001b[39;00m element[\u001b[38;5;241m-\u001b[39m\u001b[38;5;241m1\u001b[39m] \u001b[38;5;241m==\u001b[39m \u001b[38;5;124m'\u001b[39m\u001b[38;5;124mZ\u001b[39m\u001b[38;5;124m'\u001b[39m])\n\u001b[0;32m     49\u001b[0m \u001b[38;5;66;03m# Write to the file\u001b[39;00m\n\u001b[1;32m---> 50\u001b[0m \u001b[43m\u001b[49m\u001b[38;5;28;43;01mwith\u001b[39;49;00m\u001b[43m \u001b[49m\u001b[38;5;28;43mopen\u001b[39;49m\u001b[43m(\u001b[49m\u001b[38;5;124;43m'\u001b[39;49m\u001b[38;5;124;43moutput.txt\u001b[39;49m\u001b[38;5;124;43m'\u001b[39;49m\u001b[43m,\u001b[49m\u001b[43m \u001b[49m\u001b[38;5;124;43m'\u001b[39;49m\u001b[38;5;124;43ma\u001b[39;49m\u001b[38;5;124;43m'\u001b[39;49m\u001b[43m)\u001b[49m\u001b[43m \u001b[49m\u001b[38;5;28;43;01mas\u001b[39;49;00m\u001b[43m \u001b[49m\u001b[43mfile\u001b[49m\u001b[43m:\u001b[49m\n\u001b[0;32m     51\u001b[0m \u001b[43m    \u001b[49m\u001b[43mfile\u001b[49m\u001b[38;5;241;43m.\u001b[39;49m\u001b[43mwrite\u001b[49m\u001b[43m(\u001b[49m\u001b[38;5;124;43mf\u001b[39;49m\u001b[38;5;124;43m\"\u001b[39;49m\u001b[38;5;132;43;01m{\u001b[39;49;00m\u001b[43mnew_start_nodes\u001b[49m\u001b[38;5;132;43;01m}\u001b[39;49;00m\u001b[38;5;124;43m, \u001b[39;49m\u001b[38;5;132;43;01m{\u001b[39;49;00m\u001b[43min_loop_count_nodes_end_Z\u001b[49m\u001b[38;5;132;43;01m}\u001b[39;49;00m\u001b[38;5;130;43;01m\\n\u001b[39;49;00m\u001b[38;5;124;43m\"\u001b[39;49m\u001b[43m)\u001b[49m\n\u001b[0;32m     53\u001b[0m \u001b[38;5;66;03m# Update ghost information\u001b[39;00m\n",
      "\u001b[1;31mKeyboardInterrupt\u001b[0m: "
     ]
    }
   ],
   "source": [
    "instruction, network = process_input('input.in')\n",
    "count_steps() # more than 5 mins"
   ]
  }
 ],
 "metadata": {
  "kernelspec": {
   "display_name": "venv",
   "language": "python",
   "name": "python3"
  },
  "language_info": {
   "codemirror_mode": {
    "name": "ipython",
    "version": 3
   },
   "file_extension": ".py",
   "mimetype": "text/x-python",
   "name": "python",
   "nbconvert_exporter": "python",
   "pygments_lexer": "ipython3",
   "version": "3.11.4"
  }
 },
 "nbformat": 4,
 "nbformat_minor": 2
}
