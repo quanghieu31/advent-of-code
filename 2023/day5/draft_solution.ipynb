{
 "cells": [
  {
   "cell_type": "code",
   "execution_count": null,
   "metadata": {},
   "outputs": [],
   "source": []
  },
  {
   "cell_type": "markdown",
   "metadata": {},
   "source": [
    "# Example"
   ]
  },
  {
   "cell_type": "code",
   "execution_count": 31,
   "metadata": {},
   "outputs": [],
   "source": [
    "with open('example.txt', 'r') as f:\n",
    "    lines = [line.strip() for line in f.readlines()]"
   ]
  },
  {
   "cell_type": "code",
   "execution_count": 32,
   "metadata": {},
   "outputs": [
    {
     "data": {
      "text/plain": [
       "[79, 14, 55, 13]"
      ]
     },
     "execution_count": 32,
     "metadata": {},
     "output_type": "execute_result"
    }
   ],
   "source": [
    "seeds = [int(ele) for ele in lines[0].split(' ')[1:]]\n",
    "lines = lines[2:]\n",
    "seeds"
   ]
  },
  {
   "cell_type": "code",
   "execution_count": 33,
   "metadata": {},
   "outputs": [],
   "source": [
    "map_names = [\"seed-to-soil map:\", \"soil-to-fertilizer map:\", \"fertilizer-to-water map:\", \"water-to-light map:\", \"light-to-temperature map:\", \"temperature-to-humidity map:\", \"humidity-to-location map:\"]"
   ]
  },
  {
   "cell_type": "code",
   "execution_count": 34,
   "metadata": {},
   "outputs": [
    {
     "data": {
      "text/plain": [
       "([79, 14, 55, 13],\n",
       " defaultdict(list,\n",
       "             {'seed-to-soil map:': [[50, 98, 2], [52, 50, 48]],\n",
       "              'soil-to-fertilizer map:': [[0, 15, 37],\n",
       "               [37, 52, 2],\n",
       "               [39, 0, 15]],\n",
       "              'fertilizer-to-water map:': [[49, 53, 8],\n",
       "               [0, 11, 42],\n",
       "               [42, 0, 7],\n",
       "               [57, 7, 4]],\n",
       "              'water-to-light map:': [[88, 18, 7], [18, 25, 70]],\n",
       "              'light-to-temperature map:': [[45, 77, 23],\n",
       "               [81, 45, 19],\n",
       "               [68, 64, 13]],\n",
       "              'temperature-to-humidity map:': [[0, 69, 1], [1, 0, 69]],\n",
       "              'humidity-to-location map:': [[60, 56, 37], [56, 93, 4]]}))"
      ]
     },
     "execution_count": 34,
     "metadata": {},
     "output_type": "execute_result"
    }
   ],
   "source": [
    "from collections import defaultdict\n",
    "maps_info = defaultdict(list)\n",
    "no_lines = len(lines)\n",
    "\n",
    "for idx, val in enumerate(lines):\n",
    "    if val in map_names:\n",
    "        next_idx = idx + 1\n",
    "        while next_idx < no_lines and lines[next_idx]:\n",
    "            info = [int(ele) for ele in lines[next_idx].split(' ')]\n",
    "            maps_info[val].append(info)\n",
    "            next_idx += 1\n",
    "\n",
    "seeds, maps_info"
   ]
  },
  {
   "cell_type": "code",
   "execution_count": 40,
   "metadata": {},
   "outputs": [
    {
     "data": {
      "text/plain": [
       "[[50, 98, 2], [52, 50, 48]]"
      ]
     },
     "execution_count": 40,
     "metadata": {},
     "output_type": "execute_result"
    }
   ],
   "source": [
    "seed_soil_map = maps_info['seed-to-soil map:']\n",
    "seed_soil_map"
   ]
  },
  {
   "cell_type": "code",
   "execution_count": 55,
   "metadata": {},
   "outputs": [
    {
     "name": "stdout",
     "output_type": "stream",
     "text": [
      "[[50, 98, 2], [52, 50, 48]]\n"
     ]
    },
    {
     "data": {
      "text/plain": [
       "defaultdict(int,\n",
       "            {98: 50,\n",
       "             99: 51,\n",
       "             50: 52,\n",
       "             51: 53,\n",
       "             52: 54,\n",
       "             53: 55,\n",
       "             54: 56,\n",
       "             55: 57,\n",
       "             56: 58,\n",
       "             57: 59,\n",
       "             58: 60,\n",
       "             59: 61,\n",
       "             60: 62,\n",
       "             61: 63,\n",
       "             62: 64,\n",
       "             63: 65,\n",
       "             64: 66,\n",
       "             65: 67,\n",
       "             66: 68,\n",
       "             67: 69,\n",
       "             68: 70,\n",
       "             69: 71,\n",
       "             70: 72,\n",
       "             71: 73,\n",
       "             72: 74,\n",
       "             73: 75,\n",
       "             74: 76,\n",
       "             75: 77,\n",
       "             76: 78,\n",
       "             77: 79,\n",
       "             78: 80,\n",
       "             79: 81,\n",
       "             80: 82,\n",
       "             81: 83,\n",
       "             82: 84,\n",
       "             83: 85,\n",
       "             84: 86,\n",
       "             85: 87,\n",
       "             86: 88,\n",
       "             87: 89,\n",
       "             88: 90,\n",
       "             89: 91,\n",
       "             90: 92,\n",
       "             91: 93,\n",
       "             92: 94,\n",
       "             93: 95,\n",
       "             94: 96,\n",
       "             95: 97,\n",
       "             96: 98,\n",
       "             97: 99})"
      ]
     },
     "execution_count": 55,
     "metadata": {},
     "output_type": "execute_result"
    }
   ],
   "source": [
    "seed_soil_map = maps_info['seed-to-soil map:']\n",
    "print(seed_soil_map)\n",
    "\n",
    "#  example seed-soil: {98: 50, 99: 1}, {50: 52, 51: 53, 52: 54, 53: 55,..., 97: 99}\n",
    "first_list, second_list = seed_soil_map[0], seed_soil_map[1]\n",
    "\n",
    "seed_soil = defaultdict(int)\n",
    "\n",
    "# first_list\n",
    "range_length = first_list[2]\n",
    "for i in range(range_length):\n",
    "    start = first_list[1]\n",
    "    destination = first_list[0]\n",
    "    seed_soil[start + i] = destination + i\n",
    "\n",
    "# second_list\n",
    "range_length = second_list[2]\n",
    "for i in range(range_length):\n",
    "    start = second_list[1]\n",
    "    destination = second_list[0]\n",
    "    seed_soil[start + i] = destination + i\n",
    "\n",
    "seed_soil"
   ]
  },
  {
   "cell_type": "code",
   "execution_count": 54,
   "metadata": {},
   "outputs": [
    {
     "name": "stdout",
     "output_type": "stream",
     "text": [
      "[[0, 15, 37], [37, 52, 2], [39, 0, 15]]\n"
     ]
    },
    {
     "data": {
      "text/plain": [
       "defaultdict(int,\n",
       "            {15: 0,\n",
       "             16: 1,\n",
       "             17: 2,\n",
       "             18: 3,\n",
       "             19: 4,\n",
       "             20: 5,\n",
       "             21: 6,\n",
       "             22: 7,\n",
       "             23: 8,\n",
       "             24: 9,\n",
       "             25: 10,\n",
       "             26: 11,\n",
       "             27: 12,\n",
       "             28: 13,\n",
       "             29: 14,\n",
       "             30: 15,\n",
       "             31: 16,\n",
       "             32: 17,\n",
       "             33: 18,\n",
       "             34: 19,\n",
       "             35: 20,\n",
       "             36: 21,\n",
       "             37: 22,\n",
       "             38: 23,\n",
       "             39: 24,\n",
       "             40: 25,\n",
       "             41: 26,\n",
       "             42: 27,\n",
       "             43: 28,\n",
       "             44: 29,\n",
       "             45: 30,\n",
       "             46: 31,\n",
       "             47: 32,\n",
       "             48: 33,\n",
       "             49: 34,\n",
       "             50: 35,\n",
       "             51: 36,\n",
       "             52: 37,\n",
       "             53: 38,\n",
       "             0: 39,\n",
       "             1: 40,\n",
       "             2: 41,\n",
       "             3: 42,\n",
       "             4: 43,\n",
       "             5: 44,\n",
       "             6: 45,\n",
       "             7: 46,\n",
       "             8: 47,\n",
       "             9: 48,\n",
       "             10: 49,\n",
       "             11: 50,\n",
       "             12: 51,\n",
       "             13: 52,\n",
       "             14: 53})"
      ]
     },
     "execution_count": 54,
     "metadata": {},
     "output_type": "execute_result"
    }
   ],
   "source": [
    "soil_ferti_map = maps_info[\"soil-to-fertilizer map:\"]\n",
    "first_list, second_list, third_list = soil_ferti_map[0], soil_ferti_map[1], soil_ferti_map[2]\n",
    "print(soil_ferti_map)\n",
    "\n",
    "soil_ferti = defaultdict(int)\n",
    "\n",
    "# first_list\n",
    "range_length = first_list[2]\n",
    "for i in range(range_length):\n",
    "    start = first_list[1]\n",
    "    destination = first_list[0]\n",
    "    soil_ferti[start + i] = destination + i\n",
    "\n",
    "# second_list\n",
    "range_length = second_list[2]\n",
    "for i in range(range_length):\n",
    "    start = second_list[1]\n",
    "    destination = second_list[0]\n",
    "    soil_ferti[start + i] = destination + i\n",
    "\n",
    "# second_list\n",
    "range_length = third_list[2]\n",
    "for i in range(range_length):\n",
    "    start = third_list[1]\n",
    "    destination = third_list[0]\n",
    "    soil_ferti[start + i] = destination + i\n",
    "\n",
    "soil_ferti"
   ]
  }
 ],
 "metadata": {
  "kernelspec": {
   "display_name": "venv",
   "language": "python",
   "name": "python3"
  },
  "language_info": {
   "codemirror_mode": {
    "name": "ipython",
    "version": 3
   },
   "file_extension": ".py",
   "mimetype": "text/x-python",
   "name": "python",
   "nbconvert_exporter": "python",
   "pygments_lexer": "ipython3",
   "version": "3.11.4"
  }
 },
 "nbformat": 4,
 "nbformat_minor": 2
}
