{
 "cells": [
  {
   "cell_type": "markdown",
   "metadata": {},
   "source": [
    "# Part 1"
   ]
  },
  {
   "cell_type": "code",
   "execution_count": 1,
   "metadata": {},
   "outputs": [],
   "source": [
    "card_strengths = {\n",
    "    '2': 0,\n",
    "    '3': 1,\n",
    "    '4': 2,\n",
    "    '5': 3,\n",
    "    '6': 4,\n",
    "    '7': 5,\n",
    "    '8': 6,\n",
    "    '9': 7,\n",
    "    'T': 8,\n",
    "    'J': 9,\n",
    "    'Q': 10,\n",
    "    'K': 11,\n",
    "    'A': 12\n",
    "}   \n",
    "\n",
    "# co the ko can\n",
    "hand_type = {\n",
    "    'High card': 0,\n",
    "    'One pair': 1,\n",
    "    'Two pair': 2,\n",
    "    'Three of a kind': 3,\n",
    "    'Full house': 4,\n",
    "    'Four of a kind': 5,\n",
    "    'Five of a kind': 6\n",
    "}\n",
    "\n",
    "def get_hand_type(hand):\n",
    "    hand_tuple = tuple(hand)\n",
    "\n",
    "    # high card\n",
    "    hand_set = set(hand_tuple)\n",
    "    if len(hand_set) == 5:\n",
    "        return hand_type['High card']\n",
    "\n",
    "    # count\n",
    "    count_pairs = len([i for i in hand_set if hand_tuple.count(i) == 2])\n",
    "    count_three = len([i for i in hand_set if hand_tuple.count(i) == 3])\n",
    "    count_four = len([i for i in hand_set if hand_tuple.count(i) == 4])\n",
    "    count_five = len([i for i in hand_set if hand_tuple.count(i) == 5])\n",
    "\n",
    "    if count_five == 1:\n",
    "        return hand_type['Five of a kind']\n",
    "    elif count_four == 1:\n",
    "        return hand_type['Four of a kind']\n",
    "    elif count_three == 1 and count_pairs == 1:\n",
    "        return hand_type['Full house']\n",
    "    elif count_three == 1:\n",
    "        return hand_type['Three of a kind']\n",
    "    elif count_pairs == 2:\n",
    "        return hand_type['Two pair']\n",
    "    elif count_pairs == 1:\n",
    "        return hand_type['One pair']\n",
    "\n",
    "def convert_hand_cards_to_strength(hand):\n",
    "    strength = tuple()\n",
    "    for card in hand:\n",
    "        strength = strength + (card_strengths[card],)\n",
    "    return strength"
   ]
  },
  {
   "cell_type": "markdown",
   "metadata": {},
   "source": [
    "## Example"
   ]
  },
  {
   "cell_type": "code",
   "execution_count": 2,
   "metadata": {},
   "outputs": [
    {
     "data": {
      "text/plain": [
       "6440"
      ]
     },
     "execution_count": 2,
     "metadata": {},
     "output_type": "execute_result"
    }
   ],
   "source": [
    "import pandas as pd\n",
    "\n",
    "with open('example.in', 'r') as f:\n",
    "    hands_bids = {}\n",
    "    for line in f.readlines():\n",
    "        line = line.strip().split()\n",
    "        hands_bids[line[0]] = int(line[1])\n",
    "\n",
    "df = pd.DataFrame(list(hands_bids.items()), columns=['hand', 'bid'])\n",
    "\n",
    "df['hand_type'] = df['hand'].apply(get_hand_type)\n",
    "df['hand_strength'] = df['hand'].apply(convert_hand_cards_to_strength)\n",
    "df = df.sort_values(by=['hand_type', 'hand_strength'], ascending=False)\n",
    "len_df = len(df)\n",
    "df['rank'] = [i for i in range(len_df, 0, -1)]\n",
    "df['bid_value'] = df['bid'] * df['rank']\n",
    "\n",
    "sum(df['bid_value'])"
   ]
  },
  {
   "cell_type": "markdown",
   "metadata": {},
   "source": [
    "## Input"
   ]
  },
  {
   "cell_type": "code",
   "execution_count": 3,
   "metadata": {},
   "outputs": [
    {
     "data": {
      "text/plain": [
       "247823654"
      ]
     },
     "execution_count": 3,
     "metadata": {},
     "output_type": "execute_result"
    }
   ],
   "source": [
    "import pandas as pd\n",
    "\n",
    "with open('input.in', 'r') as f:\n",
    "    hands_bids = {}\n",
    "    for line in f.readlines():\n",
    "        line = line.strip().split()\n",
    "        hands_bids[line[0]] = int(line[1])\n",
    "\n",
    "df = pd.DataFrame(list(hands_bids.items()), columns=['hand', 'bid'])\n",
    "len_df = len(df)\n",
    "\n",
    "df['hand_type'] = df['hand'].apply(get_hand_type)\n",
    "df['hand_strength'] = df['hand'].apply(convert_hand_cards_to_strength)\n",
    "\n",
    "df.sort_values(by=['hand_type', 'hand_strength'], ascending=False, inplace=True)\n",
    "\n",
    "df['rank'] = range(len_df, 0, -1)\n",
    "df['bid_value'] = df['bid'] * df['rank']\n",
    "\n",
    "sum(df['bid_value'])"
   ]
  },
  {
   "cell_type": "markdown",
   "metadata": {},
   "source": [
    "# Part 2"
   ]
  },
  {
   "cell_type": "markdown",
   "metadata": {},
   "source": [
    "Part 2 is a little bit hard"
   ]
  }
 ],
 "metadata": {
  "kernelspec": {
   "display_name": "venv",
   "language": "python",
   "name": "python3"
  },
  "language_info": {
   "codemirror_mode": {
    "name": "ipython",
    "version": 3
   },
   "file_extension": ".py",
   "mimetype": "text/x-python",
   "name": "python",
   "nbconvert_exporter": "python",
   "pygments_lexer": "ipython3",
   "version": "3.11.4"
  }
 },
 "nbformat": 4,
 "nbformat_minor": 2
}
