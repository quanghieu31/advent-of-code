{
 "cells": [
  {
   "cell_type": "markdown",
   "metadata": {},
   "source": [
    "# Part 1"
   ]
  },
  {
   "cell_type": "markdown",
   "metadata": {},
   "source": [
    "## Example"
   ]
  },
  {
   "cell_type": "code",
   "execution_count": 3,
   "metadata": {},
   "outputs": [
    {
     "data": {
      "text/plain": [
       "288"
      ]
     },
     "execution_count": 3,
     "metadata": {},
     "output_type": "execute_result"
    }
   ],
   "source": [
    "import re # \\d+ find integers\n",
    "\n",
    "with open('example.in', 'r') as f:\n",
    "    lines = [line.strip().split() for line in f.readlines()]\n",
    "    total_times, record_distances = list(map(int, lines[0][1:])), list(map(int, lines[1][1:]))\n",
    "\n",
    "margins = 1\n",
    "\n",
    "for total_time, record_distance in zip(total_times, record_distances):\n",
    "    count_beat_record = 0\n",
    "    for hold_time in range(total_time + 1):\n",
    "        speed = hold_time\n",
    "        remain_time = total_time - hold_time\n",
    "        distance_travelled = remain_time * speed\n",
    "        if distance_travelled > record_distance:\n",
    "            count_beat_record += 1\n",
    "    margins *= count_beat_record\n",
    "\n",
    "margins"
   ]
  },
  {
   "cell_type": "markdown",
   "metadata": {},
   "source": [
    "## Input"
   ]
  },
  {
   "cell_type": "code",
   "execution_count": 6,
   "metadata": {},
   "outputs": [
    {
     "data": {
      "text/plain": [
       "281600"
      ]
     },
     "execution_count": 6,
     "metadata": {},
     "output_type": "execute_result"
    }
   ],
   "source": [
    "import re # \\d+ find integers\n",
    "\n",
    "with open('input.in', 'r') as f:\n",
    "    lines = [line.strip().split() for line in f.readlines()]\n",
    "    total_times, record_distances = list(map(int, lines[0][1:])), list(map(int, lines[1][1:]))\n",
    "\n",
    "margins = 1\n",
    "\n",
    "for total_time, record_distance in zip(total_times, record_distances):\n",
    "    count_beat_record = 0\n",
    "    for hold_time in range(total_time + 1):\n",
    "        speed = hold_time\n",
    "        remain_time = total_time - hold_time\n",
    "        distance_travelled = remain_time * speed\n",
    "        if distance_travelled > record_distance:\n",
    "            count_beat_record += 1\n",
    "    margins *= count_beat_record\n",
    "\n",
    "margins"
   ]
  },
  {
   "cell_type": "markdown",
   "metadata": {},
   "source": [
    "# Part 2"
   ]
  },
  {
   "cell_type": "code",
   "execution_count": 21,
   "metadata": {},
   "outputs": [
    {
     "data": {
      "text/plain": [
       "33875953"
      ]
     },
     "execution_count": 21,
     "metadata": {},
     "output_type": "execute_result"
    }
   ],
   "source": [
    "with open('input.in', 'r') as f:\n",
    "    lines = [line.strip().split() for line in f.readlines()]\n",
    "    total_time, record_distance = int(''.join(lines[0][1:])), int(''.join(lines[1][1:]))\n",
    "\n",
    "margins = 1\n",
    "count_beat_record = 0\n",
    "\n",
    "for hold_time in range(total_time + 1):\n",
    "    speed = hold_time\n",
    "    remain_time = total_time - hold_time\n",
    "    distance_travelled = remain_time * speed\n",
    "    if distance_travelled > record_distance:\n",
    "        count_beat_record += 1\n",
    "margins *= count_beat_record\n",
    "\n",
    "margins   # 8s"
   ]
  }
 ],
 "metadata": {
  "kernelspec": {
   "display_name": "venv",
   "language": "python",
   "name": "python3"
  },
  "language_info": {
   "codemirror_mode": {
    "name": "ipython",
    "version": 3
   },
   "file_extension": ".py",
   "mimetype": "text/x-python",
   "name": "python",
   "nbconvert_exporter": "python",
   "pygments_lexer": "ipython3",
   "version": "3.11.4"
  }
 },
 "nbformat": 4,
 "nbformat_minor": 2
}
