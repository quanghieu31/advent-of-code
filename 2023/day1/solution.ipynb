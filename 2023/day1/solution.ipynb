{
 "cells": [
  {
   "cell_type": "code",
   "execution_count": 2,
   "metadata": {},
   "outputs": [],
   "source": [
    "import re"
   ]
  },
  {
   "cell_type": "code",
   "execution_count": 22,
   "metadata": {},
   "outputs": [
    {
     "data": {
      "text/plain": [
       "('1', '4')"
      ]
     },
     "execution_count": 22,
     "metadata": {},
     "output_type": "execute_result"
    }
   ],
   "source": [
    "t = \"abcd12a34\"\n",
    "\n",
    "s = re.findall(\"\\d+\", t)\n",
    "s1 = \"\".join(s)\n",
    "s1[0], s1[-1]"
   ]
  },
  {
   "cell_type": "code",
   "execution_count": 26,
   "metadata": {},
   "outputs": [
    {
     "data": {
      "text/plain": [
       "77"
      ]
     },
     "execution_count": 26,
     "metadata": {},
     "output_type": "execute_result"
    }
   ],
   "source": [
    "s = '7'\n",
    "s[0], s[-1]\n",
    "int(s[0] + s[-1])"
   ]
  },
  {
   "cell_type": "code",
   "execution_count": 28,
   "metadata": {},
   "outputs": [],
   "source": [
    "# part 1\n",
    "\n",
    "def sum_calibrations(input):\n",
    "    with open(input, 'r') as f:\n",
    "        lines = f.readlines()\n",
    "        lines = [i.strip() for i in lines]\n",
    "\n",
    "    sum_calibrations = 0\n",
    "    \n",
    "    for line in lines:\n",
    "        digits_list = re.findall(\"\\d+\", line)                   # i.e. [\"12\", \"34\"]\n",
    "        digits_string = \"\".join(digits_list)                    # i.e. \"1234\"\n",
    "        calibration = digits_string[0] + digits_string[-1]      # i.e.\"14\"\n",
    "        sum_calibrations += int(calibration)\n",
    "\n",
    "    return sum_calibrations\n",
    "    \n"
   ]
  },
  {
   "cell_type": "code",
   "execution_count": 47,
   "metadata": {},
   "outputs": [
    {
     "data": {
      "text/plain": [
       "53194"
      ]
     },
     "execution_count": 47,
     "metadata": {},
     "output_type": "execute_result"
    }
   ],
   "source": [
    "input = \"input.txt\"\n",
    "sum_calibrations(input)"
   ]
  },
  {
   "cell_type": "code",
   "execution_count": 63,
   "metadata": {},
   "outputs": [],
   "source": [
    "# part 2\n",
    "digit_letter_dict = {\n",
    "            \"one\": \"1\",\n",
    "            \"two\": '2',\n",
    "            \"three\": '3',\n",
    "            \"four\": '4',\n",
    "            \"five\": '5',\n",
    "            \"six\": '6',\n",
    "            \"seven\": '7',\n",
    "            \"eight\": '8',\n",
    "            \"nine\": '9'\n",
    "            }\n"
   ]
  },
  {
   "cell_type": "code",
   "execution_count": 79,
   "metadata": {},
   "outputs": [
    {
     "ename": "KeyError",
     "evalue": "'e'",
     "output_type": "error",
     "traceback": [
      "\u001b[1;31m---------------------------------------------------------------------------\u001b[0m",
      "\u001b[1;31mKeyError\u001b[0m                                  Traceback (most recent call last)",
      "Cell \u001b[1;32mIn[79], line 12\u001b[0m\n\u001b[0;32m      9\u001b[0m         \u001b[38;5;28;01melse\u001b[39;00m:\n\u001b[0;32m     10\u001b[0m             j \u001b[38;5;241m+\u001b[39m\u001b[38;5;241m=\u001b[39m \u001b[38;5;241m1\u001b[39m\n\u001b[1;32m---> 12\u001b[0m         t2\u001b[38;5;241m.\u001b[39mreplace(t[i:j], \u001b[43mdigit_letter_dict\u001b[49m\u001b[43m[\u001b[49m\u001b[43mt\u001b[49m\u001b[43m[\u001b[49m\u001b[43mi\u001b[49m\u001b[43m:\u001b[49m\u001b[43mj\u001b[49m\u001b[43m]\u001b[49m\u001b[43m]\u001b[49m)\n\u001b[0;32m     14\u001b[0m t2\n",
      "\u001b[1;31mKeyError\u001b[0m: 'e'"
     ]
    }
   ],
   "source": [
    "t = \"eightwothree\"\n",
    "\n",
    "t2 = t\n",
    "for i in range(len(t)):\n",
    "    j = i\n",
    "    while j <= len(t):\n",
    "        if t[i:j] in digit_letter_dict.keys():\n",
    "            break\n",
    "        else:\n",
    "            j += 1\n",
    "    \n",
    "        t2.replace(t[i:j], digit_letter_dict[t[i:j]])\n",
    "\n",
    "t2"
   ]
  },
  {
   "cell_type": "code",
   "execution_count": 81,
   "metadata": {},
   "outputs": [],
   "source": [
    "# try recursion\n",
    "string = \"eightwothree\"\n",
    "\n",
    "def convert_letter_to_num(string):\n",
    "\n",
    "    # for each index in eightwothree\n",
    "    for i in range(len(string)):\n",
    "        # for each index, start slicing the window +1 until len(string)\n",
    "        j = i\n",
    "        # slicing window until len(string)\n",
    "        while j <= len(string):\n",
    "            # if the window matches, replace the window with the number from dict, and\n",
    "            # recursivly call on that newly changed string\n",
    "            if string[i:j] in digit_letter_dict.keys():\n",
    "                string = string.replace(string[i:j], digit_letter_dict[string[i:j]])\n",
    "                convert_letter_to_num(string)\n",
    "            # no match: keep on +1 the window slicing\n",
    "            else:\n",
    "                j += 1\n",
    "        \n",
    "    # If no changes are made in this iteration, return the result\n",
    "    return string\n",
    "    "
   ]
  },
  {
   "cell_type": "code",
   "execution_count": 83,
   "metadata": {},
   "outputs": [
    {
     "data": {
      "text/plain": [
       "'8wo3'"
      ]
     },
     "execution_count": 83,
     "metadata": {},
     "output_type": "execute_result"
    }
   ],
   "source": [
    "convert_letter_to_num(string)"
   ]
  },
  {
   "cell_type": "code",
   "execution_count": 101,
   "metadata": {},
   "outputs": [],
   "source": [
    "# combined\n",
    "\n",
    "def sum_calibrations(input):\n",
    "    with open(input, 'r') as f:\n",
    "        lines = f.readlines()\n",
    "        lines = [i.strip() for i in lines]\n",
    "\n",
    "    sum_calibrations = 0\n",
    "    \n",
    "    for line in lines:\n",
    "        line = convert_letter_to_num(line)\n",
    "        digits_list = re.findall(\"\\d+\", line)                   # i.e. [\"12\", \"34\"]\n",
    "        digits_string = \"\".join(digits_list)                    # i.e. \"1234\"\n",
    "        calibration = digits_string[0] + digits_string[-1]      # i.e.\"14\"\n",
    "        sum_calibrations += int(calibration)\n",
    "\n",
    "    return sum_calibrations"
   ]
  },
  {
   "cell_type": "code",
   "execution_count": 102,
   "metadata": {},
   "outputs": [
    {
     "data": {
      "text/plain": [
       "54232"
      ]
     },
     "execution_count": 102,
     "metadata": {},
     "output_type": "execute_result"
    }
   ],
   "source": [
    "input = \"input.txt\"\n",
    "sum_calibrations(input)"
   ]
  }
 ],
 "metadata": {
  "kernelspec": {
   "display_name": "venv",
   "language": "python",
   "name": "python3"
  },
  "language_info": {
   "codemirror_mode": {
    "name": "ipython",
    "version": 3
   },
   "file_extension": ".py",
   "mimetype": "text/x-python",
   "name": "python",
   "nbconvert_exporter": "python",
   "pygments_lexer": "ipython3",
   "version": "3.11.4"
  }
 },
 "nbformat": 4,
 "nbformat_minor": 2
}
