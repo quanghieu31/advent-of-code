{
 "cells": [
  {
   "cell_type": "markdown",
   "metadata": {},
   "source": [
    "# Part 1"
   ]
  },
  {
   "cell_type": "code",
   "execution_count": 3,
   "metadata": {},
   "outputs": [],
   "source": [
    "def process_input(file):\n",
    "    with open(file, \"r\") as f:\n",
    "        lines = [list(line.strip()) for line in f.readlines()]\n",
    "\n",
    "    return lines \n"
   ]
  },
  {
   "cell_type": "markdown",
   "metadata": {},
   "source": [
    "## Example"
   ]
  },
  {
   "cell_type": "code",
   "execution_count": 26,
   "metadata": {},
   "outputs": [
    {
     "data": {
      "text/plain": [
       "[['-', 'L', '|', 'F', '7'],\n",
       " ['7', 'S', '-', '7', '|'],\n",
       " ['L', '|', '7', '|', '|'],\n",
       " ['-', 'L', '-', 'J', '|'],\n",
       " ['L', '|', '-', 'J', 'F']]"
      ]
     },
     "execution_count": 26,
     "metadata": {},
     "output_type": "execute_result"
    }
   ],
   "source": [
    "arrays = process_input(\"example1.in\")\n",
    "arrays"
   ]
  },
  {
   "cell_type": "code",
   "execution_count": 24,
   "metadata": {},
   "outputs": [
    {
     "data": {
      "text/plain": [
       "(1, 1)"
      ]
     },
     "execution_count": 24,
     "metadata": {},
     "output_type": "execute_result"
    }
   ],
   "source": [
    "from collections import defaultdict\n",
    "\n",
    "top_most, bot_most, left_most, right_most = 0, len(matrix)-1, 0, len(matrix[0])-1\n",
    "\n",
    "def find_index_S(array, element):\n",
    "    index = [(row_index, col_index) for row_index, row in enumerate(array) for col_index, entry in enumerate(row) if entry == element]\n",
    "    if index:\n",
    "        return index[0]\n",
    "\n",
    "location_S = find_index_S(arrays, 'S')\n",
    "location_S"
   ]
  },
  {
   "cell_type": "code",
   "execution_count": 32,
   "metadata": {},
   "outputs": [
    {
     "data": {
      "text/plain": [
       "{2: ['S', '|'], 4: ['S', '-']}"
      ]
     },
     "execution_count": 32,
     "metadata": {},
     "output_type": "execute_result"
    }
   ],
   "source": [
    "i, j = location_S\n",
    "\n",
    "paths_from_S = {}\n",
    "\n",
    "# explor 4 paths\n",
    "if i > top_most and arrays[i-1][j] in {'|', '7', 'F'}:\n",
    "    paths_from_S[1] = ['S', arrays[i-1][j]]\n",
    "\n",
    "if i < bot_most and arrays[i+1][j] in {'|', 'J', 'L'}:\n",
    "    paths_from_S[2] = ['S', arrays[i+1][j]]\n",
    "\n",
    "if j > left_most and arrays[i][j-1] in {'-', 'L', 'F' }:\n",
    "    paths_from_S[3] = ['S', arrays[i][j-1]]\n",
    "\n",
    "if j < right_most and arrays[i][j+1] in {'-', 'J', '7'}:\n",
    "    paths_from_S[4] = ['S', arrays[i][j+1]]\n",
    "\n",
    "paths_from_S"
   ]
  },
  {
   "cell_type": "code",
   "execution_count": 36,
   "metadata": {},
   "outputs": [
    {
     "data": {
      "text/plain": [
       "[['-', 'L', '|', 'F', '7'],\n",
       " ['7', 'S', '-', '7', '|'],\n",
       " ['L', '|', '7', '|', '|'],\n",
       " ['-', 'L', '-', 'J', '|'],\n",
       " ['L', '|', '-', 'J', 'F']]"
      ]
     },
     "execution_count": 36,
     "metadata": {},
     "output_type": "execute_result"
    }
   ],
   "source": [
    "arrays"
   ]
  },
  {
   "cell_type": "code",
   "execution_count": 37,
   "metadata": {},
   "outputs": [
    {
     "ename": "KeyboardInterrupt",
     "evalue": "",
     "output_type": "error",
     "traceback": [
      "\u001b[1;31m---------------------------------------------------------------------------\u001b[0m",
      "\u001b[1;31mKeyboardInterrupt\u001b[0m                         Traceback (most recent call last)",
      "Cell \u001b[1;32mIn[37], line 7\u001b[0m\n\u001b[0;32m      3\u001b[0m paths2 \u001b[38;5;241m=\u001b[39m paths_from_S[\u001b[38;5;241m2\u001b[39m]\n\u001b[0;32m      5\u001b[0m i_start, j_start \u001b[38;5;241m=\u001b[39m i\u001b[38;5;241m+\u001b[39m\u001b[38;5;241m1\u001b[39m, j\n\u001b[1;32m----> 7\u001b[0m \u001b[38;5;28;01mwhile\u001b[39;00m arrays[i_start][j_start] \u001b[38;5;241m!=\u001b[39m \u001b[38;5;124m'\u001b[39m\u001b[38;5;124mS\u001b[39m\u001b[38;5;124m'\u001b[39m:\n\u001b[0;32m      9\u001b[0m     \u001b[38;5;28;01mif\u001b[39;00m arrays[i_start][j_start] \u001b[38;5;241m==\u001b[39m \u001b[38;5;124m'\u001b[39m\u001b[38;5;124m|\u001b[39m\u001b[38;5;124m'\u001b[39m:\n\u001b[0;32m     11\u001b[0m         \u001b[38;5;28;01mif\u001b[39;00m i_start \u001b[38;5;241m<\u001b[39m bot_most \u001b[38;5;129;01mand\u001b[39;00m arrays[i_start \u001b[38;5;241m+\u001b[39m \u001b[38;5;241m1\u001b[39m][j_start] \u001b[38;5;129;01min\u001b[39;00m {\u001b[38;5;124m'\u001b[39m\u001b[38;5;124m|\u001b[39m\u001b[38;5;124m'\u001b[39m, \u001b[38;5;124m'\u001b[39m\u001b[38;5;124mJ\u001b[39m\u001b[38;5;124m'\u001b[39m, \u001b[38;5;124m'\u001b[39m\u001b[38;5;124mL\u001b[39m\u001b[38;5;124m'\u001b[39m}:\n",
      "\u001b[1;31mKeyboardInterrupt\u001b[0m: "
     ]
    }
   ],
   "source": [
    "# non-recursive\n",
    "\n",
    "paths2 = paths_from_S[2]\n",
    "\n",
    "i_start, j_start = i+1, j\n",
    "\n",
    "while arrays[i_start][j_start] != 'S':\n",
    "\n",
    "    if arrays[i_start][j_start] == '|':\n",
    "\n",
    "        if i_start < bot_most and arrays[i_start + 1][j_start] in {'|', 'J', 'L'}:\n",
    "\n",
    "            paths2.append(arrays[i_start + 1][j_start])\n",
    "            i_start, j_start = i_start + 1, j_start\n",
    "\n",
    "        elif i_start > top_most and arrays[i_start - 1][j_start] in {'|', '7', 'F'}:\n",
    "\n",
    "            paths2.append(arrays[i_start - 1][j_start])\n",
    "            i_start, j_start = i_start - 1, j_start\n",
    "\n",
    "    \n",
    "    elif arrays[i_start][j_start] == '-':\n",
    "\n",
    "        if j_start > left_most and arrays[i_start][j_start - 1] in {'-', 'L', 'F' }:\n",
    "\n",
    "            paths2.append(arrays[i_start][j_start - 1])\n",
    "            i_start, j_start = i_start, j_start - 1\n",
    "\n",
    "        elif j_start < right_most and arrays[i_start][j_start + 1] in {'-', 'J', '7'}:\n",
    "\n",
    "            paths2.append(arrays[i_start][j_start + 1])\n",
    "            i_start, j_start = i_start, j_start + 1\n",
    "\n",
    "\n",
    "    elif arrays[i_start][j_start] == 'L':\n",
    "\n",
    "        if i_start > top_most and arrays[i_start - 1][j_start] in {'|', 'F', '7'}:\n",
    "\n",
    "            paths2.append(arrays[i_start - 1][j_start])\n",
    "            i_start, j_start = i_start - 1, j_start\n",
    "\n",
    "        elif j_start < right_most and arrays[i_start][j_start + 1] in {'-', 'J', '7'}:\n",
    "\n",
    "            paths2.append(arrays[i_start][j_start + 1])\n",
    "            i_start, j_start = i_start, j_start + 1\n",
    "\n",
    "\n",
    "    elif arrays[i_start][j_start] == 'J':\n",
    "\n",
    "        if i_start > top_most and arrays[i_start - 1][j_start] in {'|', 'F', '7'}:\n",
    "\n",
    "            paths2.append(arrays[i_start - 1][j_start])\n",
    "            i_start, j_start = i_start - 1, j_start\n",
    "\n",
    "        if j_start > left_most and arrays[i_start][j_start - 1] in {'-', 'L', 'F'}:\n",
    "\n",
    "            paths2.append(arrays[i_start][j_start - 1])\n",
    "            i_start, j_start = i_start, j_start - 1\n",
    "\n",
    "\n",
    "    elif arrays[i_start][j_start] == '7':\n",
    "\n",
    "        if i_start < bot_most and arrays[i_start + 1][j_start] in {'|', 'L', 'J'}:\n",
    "\n",
    "            paths2.append(arrays[i_start + 1][j_start])\n",
    "            i_start, j_start = i_start + 1, j_start\n",
    "\n",
    "        if j_start > left_most and arrays[i_start][j_start - 1] in {'-', 'L', 'F'}:\n",
    "\n",
    "            paths2.append(arrays[i_start][j_start - 1])\n",
    "            i_start, j_start = i_start, j_start - 1\n",
    "\n",
    "\n",
    "    elif arrays[i_start][j_start] == 'F':\n",
    "\n",
    "        if i_start < bot_most and arrays[i_start + 1][j_start] in {'|', 'L', 'J'}:\n",
    "\n",
    "            paths2.append(arrays[i_start + 1][j_start])\n",
    "            i_start, j_start = i_start + 1, j_start\n",
    "\n",
    "        elif j_start < right_most and arrays[i_start][j_start + 1] in {'-', 'J', '7'}:\n",
    "\n",
    "            paths2.append(arrays[i_start][j_start + 1])\n",
    "            i_start, j_start = i_start, j_start + 1\n"
   ]
  },
  {
   "cell_type": "code",
   "execution_count": 41,
   "metadata": {},
   "outputs": [
    {
     "data": {
      "text/plain": [
       "[['7', '-', 'F', '7', '-'],\n",
       " ['.', 'F', 'J', '|', '7'],\n",
       " ['S', 'J', 'L', 'L', '7'],\n",
       " ['|', 'F', '-', '-', 'J'],\n",
       " ['L', 'J', '.', 'L', 'J']]"
      ]
     },
     "execution_count": 41,
     "metadata": {},
     "output_type": "execute_result"
    }
   ],
   "source": [
    "arrays = process_input('example2.in')\n",
    "arrays"
   ]
  },
  {
   "cell_type": "code",
   "execution_count": 44,
   "metadata": {},
   "outputs": [
    {
     "data": {
      "text/plain": [
       "8"
      ]
     },
     "execution_count": 44,
     "metadata": {},
     "output_type": "execute_result"
    }
   ],
   "source": [
    "from collections import deque\n",
    "\n",
    "arrays = process_input('example2.in')\n",
    "\n",
    "def find_index_S(array, element):\n",
    "    index = [(row_index, col_index) for row_index, row in enumerate(array) for col_index, entry in enumerate(row) if entry == element]\n",
    "    if index:\n",
    "        return index[0]\n",
    "    return None\n",
    "\n",
    "def valid_move(i, j, n, m):\n",
    "    return 0 <= i < n and 0 <= j < m\n",
    "\n",
    "def bfs_find_loop(arrays, start):\n",
    "    directions = {'|': [(1, 0), (-1, 0)], '-': [(0, 1), (0, -1)],\n",
    "                  'L': [(0, 1), (-1, 0)], 'J': [(0, -1), (-1, 0)],\n",
    "                  '7': [(1, 0), (0, -1)], 'F': [(1, 0), (0, 1)]}\n",
    "    opposite = {(1, 0): (-1, 0), (-1, 0): (1, 0), (0, 1): (0, -1), (0, -1): (0, 1)}\n",
    "    \n",
    "    n, m = len(arrays), len(arrays[0])\n",
    "    queue = deque([start])\n",
    "    visited = set([start])\n",
    "    \n",
    "    while queue:\n",
    "        i, j = queue.popleft()\n",
    "        current_pipe = arrays[i][j]\n",
    "        \n",
    "        if current_pipe == 'S':\n",
    "            for di, dj in directions['|'] + directions['-']:\n",
    "                ni, nj = i + di, j + dj\n",
    "                if valid_move(ni, nj, n, m) and arrays[ni][nj] != '.' and (ni, nj) not in visited:\n",
    "                    queue.append((ni, nj))\n",
    "                    visited.add((ni, nj))\n",
    "        else:\n",
    "            for di, dj in directions[current_pipe]:\n",
    "                ni, nj = i + di, j + dj\n",
    "                if valid_move(ni, nj, n, m) and arrays[ni][nj] != '.' and (ni, nj) not in visited:\n",
    "                    queue.append((ni, nj))\n",
    "                    visited.add((ni, nj))\n",
    "    \n",
    "    return visited\n",
    "\n",
    "def calculate_max_distance(arrays, loop_set, start):\n",
    "    queue = deque([(start, 0)])\n",
    "    max_distance = 0\n",
    "    visited = set([start])\n",
    "    \n",
    "    while queue:\n",
    "        (i, j), dist = queue.popleft()\n",
    "        max_distance = max(max_distance, dist)\n",
    "        \n",
    "        current_pipe = arrays[i][j]\n",
    "        directions = {'|': [(1, 0), (-1, 0)], '-': [(0, 1), (0, -1)],\n",
    "                      'L': [(0, 1), (-1, 0)], 'J': [(0, -1), (-1, 0)],\n",
    "                      '7': [(1, 0), (0, -1)], 'F': [(1, 0), (0, 1)],\n",
    "                      'S': [(1, 0), (-1, 0), (0, 1), (0, -1)]}\n",
    "        \n",
    "        for di, dj in directions[current_pipe]:\n",
    "            ni, nj = i + di, j + dj\n",
    "            if (ni, nj) in loop_set and (ni, nj) not in visited:\n",
    "                queue.append(((ni, nj), dist + 1))\n",
    "                visited.add((ni, nj))\n",
    "    \n",
    "    return max_distance\n",
    "\n",
    "# Finding the location of 'S'\n",
    "location_S = find_index_S(arrays, 'S')\n",
    "\n",
    "# Finding the loop\n",
    "loop_set = bfs_find_loop(arrays, location_S)\n",
    "\n",
    "# Calculating the maximum distance in the loop\n",
    "max_distance = calculate_max_distance(arrays, loop_set, location_S)\n",
    "\n",
    "max_distance\n"
   ]
  },
  {
   "cell_type": "markdown",
   "metadata": {},
   "source": [
    "## Input"
   ]
  },
  {
   "cell_type": "code",
   "execution_count": 45,
   "metadata": {},
   "outputs": [],
   "source": [
    "arrays = process_input('input.in')"
   ]
  },
  {
   "cell_type": "code",
   "execution_count": 47,
   "metadata": {},
   "outputs": [
    {
     "name": "stdout",
     "output_type": "stream",
     "text": [
      "6856\n"
     ]
    }
   ],
   "source": [
    "def find_farthest_distance(grid):\n",
    "    from collections import deque\n",
    "    \n",
    "    # Directions: N, E, S, W\n",
    "    directions = {\n",
    "        '|': [(-1, 0), (1, 0)],     # (steps_vertically, step_horizontally) x2 because connection to 2 neighbors\n",
    "        '-': [(0, -1), (0, 1)],     # negative means up and left, positive means down and right\n",
    "        'L': [(-1, 0), (0, 1)],\n",
    "        'J': [(-1, 0), (0, -1)],\n",
    "        '7': [(1, 0), (0, -1)],\n",
    "        'F': [(1, 0), (0, 1)],\n",
    "    }\n",
    "\n",
    "    def is_valid_move(x, y, from_dir):\n",
    "        if 0 <= x < len(grid) and 0 <= y < len(grid[0]):\n",
    "            if grid[x][y] in directions:\n",
    "                for dx, dy in directions[grid[x][y]]:\n",
    "                    if (dx, dy) == (-from_dir[0], -from_dir[1]):\n",
    "                        return True\n",
    "        return False\n",
    "\n",
    "    # Find starting position 'S'\n",
    "    start_x, start_y = -1, -1\n",
    "    for i in range(len(grid)):\n",
    "        for j in range(len(grid[0])):\n",
    "            if grid[i][j] == 'S':\n",
    "                start_x, start_y = i, j\n",
    "                break\n",
    "        if start_x != -1:\n",
    "            break\n",
    "\n",
    "    # BFS to find all connected components and distances\n",
    "    queue = deque([(start_x, start_y, 0)])\n",
    "    visited = set((start_x, start_y))\n",
    "    distances = {}\n",
    "    while queue:\n",
    "        x, y, dist = queue.popleft()\n",
    "        distances[(x, y)] = dist\n",
    "\n",
    "        current_pipe = grid[x][y] if grid[x][y] != 'S' else 'F' # Assuming 'S' is actually 'F'\n",
    "        for dx, dy in directions.get(current_pipe, []):\n",
    "            nx, ny = x + dx, y + dy\n",
    "            if (nx, ny) not in visited and is_valid_move(nx, ny, (dx, dy)):\n",
    "                visited.add((nx, ny))\n",
    "                queue.append((nx, ny, dist + 1))\n",
    "\n",
    "    # Find the maximum distance\n",
    "    max_distance = max(distances.values())\n",
    "    return max_distance\n",
    "    \n",
    "\n",
    "\n",
    "grid = arrays\n",
    "\n",
    "print(find_farthest_distance(grid)) \n"
   ]
  }
 ],
 "metadata": {
  "kernelspec": {
   "display_name": "venv",
   "language": "python",
   "name": "python3"
  },
  "language_info": {
   "codemirror_mode": {
    "name": "ipython",
    "version": 3
   },
   "file_extension": ".py",
   "mimetype": "text/x-python",
   "name": "python",
   "nbconvert_exporter": "python",
   "pygments_lexer": "ipython3",
   "version": "3.11.4"
  }
 },
 "nbformat": 4,
 "nbformat_minor": 2
}
