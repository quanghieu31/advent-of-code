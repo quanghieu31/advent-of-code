{
 "cells": [
  {
   "cell_type": "code",
   "execution_count": 2,
   "metadata": {},
   "outputs": [
    {
     "data": {
      "text/plain": [
       "[['4', '6', '7', '.', '.', '1', '1', '4', '.', '.'],\n",
       " ['.', '.', '.', '*', '.', '.', '.', '.', '.', '.'],\n",
       " ['.', '.', '3', '5', '.', '.', '6', '3', '3', '.'],\n",
       " ['.', '.', '.', '.', '.', '.', '#', '.', '.', '.'],\n",
       " ['6', '1', '7', '*', '.', '.', '.', '.', '.', '.'],\n",
       " ['.', '.', '.', '.', '.', '+', '.', '5', '8', '.'],\n",
       " ['.', '.', '5', '9', '2', '.', '.', '.', '.', '.'],\n",
       " ['.', '.', '.', '.', '.', '.', '7', '5', '5', '.'],\n",
       " ['.', '.', '.', '$', '.', '*', '.', '.', '.', '.'],\n",
       " ['.', '6', '6', '4', '.', '5', '9', '8', '.', '.']]"
      ]
     },
     "execution_count": 2,
     "metadata": {},
     "output_type": "execute_result"
    }
   ],
   "source": [
    "import os\n",
    "os.getcwd()\n",
    "\n",
    "with open('example.txt', 'r') as f:\n",
    "    example = [line.strip() for line in f.readlines()]\n",
    "\n",
    "# split to get array of array or list of list (look like a matrix)\n",
    "example_matrix = [list(line) for line in example]\n",
    "\n",
    "example_matrix\n"
   ]
  },
  {
   "cell_type": "code",
   "execution_count": 3,
   "metadata": {},
   "outputs": [
    {
     "data": {
      "text/plain": [
       "'*'"
      ]
     },
     "execution_count": 3,
     "metadata": {},
     "output_type": "execute_result"
    }
   ],
   "source": [
    "example_matrix[1][3]"
   ]
  },
  {
   "cell_type": "code",
   "execution_count": 4,
   "metadata": {},
   "outputs": [],
   "source": [
    "# default dict vs dict.setdefault()\n",
    "\n",
    "from collections import defaultdict # handle unknown missing keys whereas dict.setdefault must specify what missing key is"
   ]
  },
  {
   "cell_type": "code",
   "execution_count": 5,
   "metadata": {},
   "outputs": [
    {
     "data": {
      "text/plain": [
       "defaultdict(set, {})"
      ]
     },
     "execution_count": 5,
     "metadata": {},
     "output_type": "execute_result"
    }
   ],
   "source": [
    "dic = defaultdict(set)\n",
    "\n",
    "# example wanted result: dic = {'*': {467, 35}, '#': {633}}\n",
    "dic"
   ]
  },
  {
   "cell_type": "code",
   "execution_count": 6,
   "metadata": {},
   "outputs": [
    {
     "data": {
      "text/plain": [
       "[]"
      ]
     },
     "execution_count": 6,
     "metadata": {},
     "output_type": "execute_result"
    }
   ],
   "source": [
    "x = [[1, 2, 3], [1, 2, 3], [1, 2, 3]]\n",
    "x[5:6][1:3]\n",
    "\n",
    "# So, always access x[i:i+1], if you want x[i]. You'll get a list with the required element if it exists. Otherwise, you get an empty list\n",
    "# rmb: slicing results in the same list but reduced elements. for example: x = [1,2,3], x[1:2] = [2], instead of just 2\n",
    "# if just index only => value (not a list like slicing)\n",
    "# dont know if fast? but it works"
   ]
  },
  {
   "cell_type": "code",
   "execution_count": 7,
   "metadata": {},
   "outputs": [
    {
     "data": {
      "text/plain": [
       "[['4', '6', '7', '.', '.', '1', '1', '4', '.', '.'],\n",
       " ['.', '.', '.', '*', '.', '.', '.', '.', '.', '.'],\n",
       " ['.', '.', '3', '5', '.', '.', '6', '3', '3', '.'],\n",
       " ['.', '.', '.', '.', '.', '.', '#', '.', '.', '.'],\n",
       " ['6', '1', '7', '*', '.', '.', '.', '.', '.', '.'],\n",
       " ['.', '.', '.', '.', '.', '+', '.', '5', '8', '.'],\n",
       " ['.', '.', '5', '9', '2', '.', '.', '.', '.', '.'],\n",
       " ['.', '.', '.', '.', '.', '.', '7', '5', '5', '.'],\n",
       " ['.', '.', '.', '$', '.', '*', '.', '.', '.', '.'],\n",
       " ['.', '6', '6', '4', '.', '5', '9', '8', '.', '.']]"
      ]
     },
     "execution_count": 7,
     "metadata": {},
     "output_type": "execute_result"
    }
   ],
   "source": [
    "example_matrix"
   ]
  },
  {
   "cell_type": "code",
   "execution_count": 8,
   "metadata": {},
   "outputs": [
    {
     "name": "stdout",
     "output_type": "stream",
     "text": [
      "*\n",
      "[467, 35]\n",
      "#\n",
      "[35, 35]\n",
      "*\n",
      "[617]\n",
      "+\n",
      "[]\n",
      "$\n",
      "[664, 664]\n",
      "*\n",
      "[664, 664]\n"
     ]
    },
    {
     "data": {
      "text/plain": [
       "3845"
      ]
     },
     "execution_count": 8,
     "metadata": {},
     "output_type": "execute_result"
    }
   ],
   "source": [
    "len_row = len(example_matrix[0])\n",
    "len_col = len(example_matrix)\n",
    "\n",
    "def get_number_in_that_row(j, idx, row):\n",
    "\n",
    "    numbers_string_list = []\n",
    "\n",
    "    j1, j2 = j, j\n",
    "    while j1 >= 0 and row[j1-1+idx].isdigit(): \n",
    "        numbers_string_list.insert(0, row[j1-1+idx])\n",
    "        j1 -= 1\n",
    "\n",
    "    while j2+1 < len_row and row[j2+idx].isdigit():\n",
    "        numbers_string_list.append(row[j2+idx])\n",
    "        j2 += 1\n",
    "\n",
    "    number_integer = ''.join(numbers_string_list)\n",
    "\n",
    "    return number_integer\n",
    "\n",
    "\n",
    "def filter_slider(i, j):\n",
    "    # slicing index instead of exact index\n",
    "\n",
    "    all_numbers_list = []\n",
    "\n",
    "    if i > 0:\n",
    "        ups = example_matrix[i-1][max(j-1, 0):min(j+2, len_row)]\n",
    "        for idx, up in enumerate(ups):\n",
    "            all_up_row = example_matrix[i-1]\n",
    "            if up.isdigit():\n",
    "                number_integer = get_number_in_that_row(j, idx - (j - 1), all_up_row)\n",
    "                if number_integer.isdigit():\n",
    "                    all_numbers_list.append(int(number_integer))\n",
    "\n",
    "\n",
    "    mids = example_matrix[i][max(j-1, 0):min(j+2, len_row)]\n",
    "    for idx, mid in enumerate(mids):\n",
    "        all_mid_row = example_matrix[i]\n",
    "        if mid.isdigit():\n",
    "            number_integer = get_number_in_that_row(j, idx - (j - 1), all_mid_row)\n",
    "            if number_integer.isdigit():\n",
    "                all_numbers_list.append(int(number_integer))\n",
    "\n",
    "\n",
    "    if i < len_col - 1:\n",
    "        bots = example_matrix[i+1][max(j-1, 0):min(j+2, len_row)]\n",
    "        for idx, bot in enumerate(bots):\n",
    "            all_bot_row = example_matrix[i+1]\n",
    "            if bot.isdigit():\n",
    "                number_integer = get_number_in_that_row(j, idx - (j - 1), all_bot_row)\n",
    "                if number_integer.isdigit():\n",
    "                    all_numbers_list.append(int(number_integer))\n",
    "\n",
    "    print(all_numbers_list)\n",
    "    return all_numbers_list\n",
    "\n",
    "\n",
    "sum_dups = 0\n",
    "\n",
    "for i, row in enumerate(example_matrix):\n",
    "    for j, entry in enumerate(row):\n",
    "        if not entry.isdigit() and entry != '.':\n",
    "            print(entry)\n",
    "            set_numbers_of_this_ij = filter_slider(i, j)\n",
    "            sum_dups += sum(set_numbers_of_this_ij)\n",
    "            \n",
    "\n",
    "sum_dups"
   ]
  },
  {
   "cell_type": "code",
   "execution_count": 9,
   "metadata": {},
   "outputs": [
    {
     "data": {
      "text/plain": [
       "4361"
      ]
     },
     "execution_count": 9,
     "metadata": {},
     "output_type": "execute_result"
    }
   ],
   "source": [
    "len_row = len(example_matrix[0])\n",
    "len_col = len(example_matrix)\n",
    "\n",
    "def get_number_in_that_row(j, idx, row):\n",
    "    numbers_string_list = []\n",
    "\n",
    "    j1 = j + idx - 1\n",
    "    while j1 >= 0 and row[j1].isdigit():\n",
    "        numbers_string_list.insert(0, row[j1])\n",
    "        j1 -= 1\n",
    "\n",
    "    j2 = j + idx\n",
    "    while j2 < len_row and row[j2].isdigit():\n",
    "        numbers_string_list.append(row[j2])\n",
    "        j2 += 1\n",
    "\n",
    "    number_integer = ''.join(numbers_string_list)\n",
    "    return number_integer\n",
    "\n",
    "def filter_slider(i, j):\n",
    "    all_numbers_list = []\n",
    "\n",
    "    if i > 0:\n",
    "        ups = example_matrix[i-1][max(j-1, 0):min(j+2, len_row)]\n",
    "        for idx, up in enumerate(ups):\n",
    "            all_up_row = example_matrix[i-1]\n",
    "            if up.isdigit():\n",
    "                number_integer = get_number_in_that_row(j, idx - 1, all_up_row)\n",
    "                if number_integer.isdigit():\n",
    "                    all_numbers_list.append(int(number_integer))\n",
    "\n",
    "    mids = example_matrix[i][max(j-1, 0):min(j+2, len_row)]\n",
    "    for idx, mid in enumerate(mids):\n",
    "        all_mid_row = example_matrix[i]\n",
    "        if mid.isdigit():\n",
    "            number_integer = get_number_in_that_row(j, idx - 1, all_mid_row)\n",
    "            if number_integer.isdigit():\n",
    "                all_numbers_list.append(int(number_integer))\n",
    "\n",
    "    if i < len_col - 1:\n",
    "        bots = example_matrix[i+1][max(j-1, 0):min(j+2, len_row)]\n",
    "        for idx, bot in enumerate(bots):\n",
    "            all_bot_row = example_matrix[i+1]\n",
    "            if bot.isdigit():\n",
    "                number_integer = get_number_in_that_row(j, idx - 1, all_bot_row)\n",
    "                if number_integer.isdigit():\n",
    "                    all_numbers_list.append(int(number_integer))\n",
    "\n",
    "    return all_numbers_list\n",
    "\n",
    "sum_dups = 0\n",
    "\n",
    "for i, row in enumerate(example_matrix):\n",
    "    for j, entry in enumerate(row):\n",
    "        if not entry.isdigit() and entry != '.':\n",
    "            set_numbers_of_this_ij = filter_slider(i, j)\n",
    "            sum_dups += sum(set(set_numbers_of_this_ij))\n",
    "\n",
    "sum_dups\n"
   ]
  },
  {
   "cell_type": "code",
   "execution_count": 23,
   "metadata": {},
   "outputs": [
    {
     "data": {
      "text/plain": [
       "869344"
      ]
     },
     "execution_count": 23,
     "metadata": {},
     "output_type": "execute_result"
    }
   ],
   "source": [
    "# part 1\n",
    "\n",
    "with open('input.txt', 'r') as f:\n",
    "    ipt = [line.strip() for line in f.readlines()]\n",
    "\n",
    "# split to get array of array or list of list (look like a matrix)\n",
    "ipt = [list(line) for line in ipt]\n",
    "\n",
    "\n",
    "\n",
    "len_row = len(ipt[0])\n",
    "len_col = len(ipt)\n",
    "\n",
    "def get_number_in_that_row(j, idx, row):\n",
    "    numbers_string_list = []\n",
    "\n",
    "    j1 = j + idx - 1\n",
    "    while j1 >= 0 and row[j1].isdigit():\n",
    "        numbers_string_list.insert(0, row[j1])\n",
    "        j1 -= 1\n",
    "\n",
    "    j2 = j + idx\n",
    "    while j2 < len_row and row[j2].isdigit():\n",
    "        numbers_string_list.append(row[j2])\n",
    "        j2 += 1\n",
    "\n",
    "    number_integer = ''.join(numbers_string_list)\n",
    "    return number_integer\n",
    "\n",
    "def filter_slider(i, j):\n",
    "    all_numbers_list = []\n",
    "\n",
    "    if i > 0:\n",
    "        ups = ipt[i-1][max(j-1, 0):min(j+2, len_row)]\n",
    "        for idx, up in enumerate(ups):\n",
    "            all_up_row = ipt[i-1]\n",
    "            if up.isdigit():\n",
    "                number_integer = get_number_in_that_row(j, idx - 1, all_up_row)\n",
    "                if number_integer.isdigit():\n",
    "                    all_numbers_list.append(int(number_integer))\n",
    "\n",
    "    mids = ipt[i][max(j-1, 0):min(j+2, len_row)]\n",
    "    for idx, mid in enumerate(mids):\n",
    "        all_mid_row = ipt[i]\n",
    "        if mid.isdigit():\n",
    "            number_integer = get_number_in_that_row(j, idx - 1, all_mid_row)\n",
    "            if number_integer.isdigit():\n",
    "                all_numbers_list.append(int(number_integer))\n",
    "\n",
    "    if i < len_col - 1:\n",
    "        bots = ipt[i+1][max(j-1, 0):min(j+2, len_row)]\n",
    "        for idx, bot in enumerate(bots):\n",
    "            all_bot_row = ipt[i+1]\n",
    "            if bot.isdigit():\n",
    "                number_integer = get_number_in_that_row(j, idx - 1, all_bot_row)\n",
    "                if number_integer.isdigit():\n",
    "                    all_numbers_list.append(int(number_integer))\n",
    "\n",
    "    return all_numbers_list\n",
    "\n",
    "sum_dups = 0\n",
    "\n",
    "for i, row in enumerate(ipt):\n",
    "    for j, entry in enumerate(row):\n",
    "        if not entry.isdigit() and entry != '.':\n",
    "            numbers_of_this_ij = filter_slider(i, j)\n",
    "            sum_dups += sum(numbers_of_this_ij)\n",
    "\n",
    "sum_dups\n"
   ]
  },
  {
   "cell_type": "code",
   "execution_count": 15,
   "metadata": {},
   "outputs": [
    {
     "name": "stdout",
     "output_type": "stream",
     "text": [
      "556057\n"
     ]
    }
   ],
   "source": [
    "import re\n",
    "from typing import Generator, Tuple, List\n",
    "\n",
    "# Open the file and read the lines into a list\n",
    "lines: List[str] = open(\"./input.txt\").read().splitlines()\n",
    "\n",
    "\n",
    "def is_symbol(char: str) -> bool:\n",
    "    \"\"\"\n",
    "    Checks if a character is a symbol.\n",
    "\n",
    "    Parameters:\n",
    "    char (str): The character to check.\n",
    "\n",
    "    Returns:\n",
    "    bool: True if the character is a symbol, False otherwise.\n",
    "    \"\"\"\n",
    "    return char != \".\" and not char.isdigit()\n",
    "\n",
    "\n",
    "def get_numbers() -> Generator[Tuple[int, str, int, int, int], None, None]:\n",
    "    \"\"\"\n",
    "    Generates tuples containing the line index, line content, start index, end index, and number for each number in the lines.\n",
    "    \"\"\"\n",
    "    for i, line in enumerate(lines):\n",
    "        # Loop over each number in the line\n",
    "        for match in re.finditer(r\"\\d+\", line):\n",
    "            start_index = match.start(0) - 1\n",
    "            end_index = match.end(0)\n",
    "            number = int(match.group(0))\n",
    "            yield i, line, start_index, end_index, number\n",
    "\n",
    "\n",
    "count = 0\n",
    "\n",
    "# Iterate over the generated tuples\n",
    "for (\n",
    "    i,\n",
    "    line,\n",
    "    start_index,\n",
    "    end_index,\n",
    "    number,\n",
    ") in get_numbers():\n",
    "    # Check if number is not surrounded by symbols\n",
    "    if (start_index >= 0 and is_symbol(line[start_index])) or (\n",
    "        end_index < len(line) and is_symbol(line[end_index])\n",
    "    ):\n",
    "        count += number\n",
    "        continue\n",
    "\n",
    "    # Check if number is surrounded by symbols on the line above or below\n",
    "    # the current line\n",
    "    # loop over each digit in the number\n",
    "    for j in range(start_index, end_index + 1):\n",
    "        # Check if we are at the end of the line\n",
    "        if j >= len(line):\n",
    "            continue\n",
    "\n",
    "        # Check the line above and below for symbols\n",
    "        if (i > 0 and is_symbol(lines[i - 1][j])) or (\n",
    "            i < len(lines) - 2 and is_symbol(lines[i + 1][j])\n",
    "        ):\n",
    "            count += number\n",
    "            break\n",
    "\n",
    "print(count)"
   ]
  },
  {
   "cell_type": "code",
   "execution_count": 22,
   "metadata": {},
   "outputs": [
    {
     "name": "stdout",
     "output_type": "stream",
     "text": [
      "556057\n",
      "82824352\n"
     ]
    }
   ],
   "source": [
    "with open(\"input.txt\") as file:\n",
    "    lines = file.readlines()\n",
    "    lines = [line.rstrip() for line in lines]\n",
    "\n",
    "res = 0\n",
    "\n",
    "m = len(lines)\n",
    "n = len(lines[0])\n",
    "\n",
    "counts = [[0] * n for _ in range(m)]\n",
    "prods = [[1] * n for _ in range(m)]\n",
    "\n",
    "for i in range(m):\n",
    "    j = 0\n",
    "    while j < n:\n",
    "        ctr = 1\n",
    "        while j < n - 1 and lines[i][j].isdigit() == lines[i][j + 1].isdigit():\n",
    "            ctr += 1\n",
    "            j += 1\n",
    "        if lines[i][j].isdigit():\n",
    "            num = int(lines[i][j-ctr+1:j+1])\n",
    "            valid = False\n",
    "            for x in range(i - 1, i + 2):\n",
    "                for y in range(j - ctr, j + 2):\n",
    "                    if 0 <= x < m and 0 <= y < n and lines[x][y] != \".\" and not lines[x][y].isdigit():\n",
    "                        valid = True\n",
    "                    if 0 <= x < m and 0 <= y < n and lines[x][y] == \"*\":\n",
    "                        counts[x][y] += 1\n",
    "                        prods[x][y] *= num\n",
    "                        break\n",
    "            if valid:\n",
    "                res += num\n",
    "        j += 1\n",
    "\n",
    "ratios = 0\n",
    "\n",
    "for i in range(m):\n",
    "    for j in range(n):\n",
    "        if counts[i][j] == 2:\n",
    "            ratios += prods[i][j]\n",
    "\n",
    "print(res)\n",
    "print(ratios)"
   ]
  }
 ],
 "metadata": {
  "kernelspec": {
   "display_name": "venv",
   "language": "python",
   "name": "python3"
  },
  "language_info": {
   "codemirror_mode": {
    "name": "ipython",
    "version": 3
   },
   "file_extension": ".py",
   "mimetype": "text/x-python",
   "name": "python",
   "nbconvert_exporter": "python",
   "pygments_lexer": "ipython3",
   "version": "3.11.4"
  }
 },
 "nbformat": 4,
 "nbformat_minor": 2
}
