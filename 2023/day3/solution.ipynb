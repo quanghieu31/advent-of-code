{
 "cells": [
  {
   "cell_type": "code",
   "execution_count": 16,
   "metadata": {},
   "outputs": [
    {
     "data": {
      "text/plain": [
       "[['4', '6', '7', '.', '.', '1', '1', '4', '.', '.'],\n",
       " ['.', '.', '.', '*', '.', '.', '.', '.', '.', '.'],\n",
       " ['.', '.', '3', '5', '.', '.', '6', '3', '3', '.'],\n",
       " ['.', '.', '.', '.', '.', '.', '#', '.', '.', '.'],\n",
       " ['6', '1', '7', '*', '.', '.', '.', '.', '.', '.'],\n",
       " ['.', '.', '.', '.', '.', '+', '.', '5', '8', '.'],\n",
       " ['.', '.', '5', '9', '2', '.', '.', '.', '.', '.'],\n",
       " ['.', '.', '.', '.', '.', '.', '7', '5', '5', '.'],\n",
       " ['.', '.', '.', '$', '.', '*', '.', '.', '.', '.'],\n",
       " ['.', '6', '6', '4', '.', '5', '9', '8', '.', '.']]"
      ]
     },
     "execution_count": 16,
     "metadata": {},
     "output_type": "execute_result"
    }
   ],
   "source": [
    "import os\n",
    "os.getcwd()\n",
    "\n",
    "with open('example.txt', 'r') as f:\n",
    "    example = [line.strip() for line in f.readlines()]\n",
    "\n",
    "# split to get array of array or list of list (look like a matrix)\n",
    "example_matrix = [list(line) for line in example]\n",
    "\n",
    "example_matrix\n"
   ]
  },
  {
   "cell_type": "code",
   "execution_count": 17,
   "metadata": {},
   "outputs": [
    {
     "data": {
      "text/plain": [
       "'*'"
      ]
     },
     "execution_count": 17,
     "metadata": {},
     "output_type": "execute_result"
    }
   ],
   "source": [
    "example_matrix[1][3]"
   ]
  },
  {
   "cell_type": "code",
   "execution_count": 20,
   "metadata": {},
   "outputs": [],
   "source": [
    "# default dict vs dict.setdefault()\n",
    "\n",
    "from collections import defaultdict # handle unknown missing keys whereas dict.setdefault must specify what missing key is"
   ]
  },
  {
   "cell_type": "code",
   "execution_count": 52,
   "metadata": {},
   "outputs": [
    {
     "data": {
      "text/plain": [
       "defaultdict(set, {})"
      ]
     },
     "execution_count": 52,
     "metadata": {},
     "output_type": "execute_result"
    }
   ],
   "source": [
    "dic = defaultdict(set)\n",
    "\n",
    "# example wanted result: dic = {'*': {467, 35}, '#': {633}}\n",
    "dic"
   ]
  },
  {
   "cell_type": "code",
   "execution_count": 34,
   "metadata": {},
   "outputs": [
    {
     "data": {
      "text/plain": [
       "[]"
      ]
     },
     "execution_count": 34,
     "metadata": {},
     "output_type": "execute_result"
    }
   ],
   "source": [
    "x = [[1, 2, 3], [1, 2, 3], [1, 2, 3]]\n",
    "x[5:6][1:3]\n",
    "\n",
    "# So, always access x[i:i+1], if you want x[i]. You'll get a list with the required element if it exists. Otherwise, you get an empty list\n",
    "# rmb: slicing results in the same list but reduced elements. for example: x = [1,2,3], x[1:2] = [2], instead of just 2\n",
    "# if just index only => value (not a list like slicing)\n",
    "# dont know if fast? but it works"
   ]
  },
  {
   "cell_type": "code",
   "execution_count": 70,
   "metadata": {},
   "outputs": [
    {
     "data": {
      "text/plain": [
       "[['4', '6', '7', '.', '.', '1', '1', '4', '.', '.'],\n",
       " ['.', '.', '.', '*', '.', '.', '.', '.', '.', '.'],\n",
       " ['.', '.', '3', '5', '.', '.', '6', '3', '3', '.'],\n",
       " ['.', '.', '.', '.', '.', '.', '#', '.', '.', '.'],\n",
       " ['6', '1', '7', '*', '.', '.', '.', '.', '.', '.'],\n",
       " ['.', '.', '.', '.', '.', '+', '.', '5', '8', '.'],\n",
       " ['.', '.', '5', '9', '2', '.', '.', '.', '.', '.'],\n",
       " ['.', '.', '.', '.', '.', '.', '7', '5', '5', '.'],\n",
       " ['.', '.', '.', '$', '.', '*', '.', '.', '.', '.'],\n",
       " ['.', '6', '6', '4', '.', '5', '9', '8', '.', '.']]"
      ]
     },
     "execution_count": 70,
     "metadata": {},
     "output_type": "execute_result"
    }
   ],
   "source": [
    "example_matrix"
   ]
  },
  {
   "cell_type": "code",
   "execution_count": 185,
   "metadata": {},
   "outputs": [
    {
     "name": "stdout",
     "output_type": "stream",
     "text": [
      "*\n",
      "[467, 35]\n",
      "#\n",
      "[35, 35]\n",
      "*\n",
      "[617]\n",
      "+\n",
      "[]\n",
      "$\n",
      "[664, 664]\n",
      "*\n",
      "[664, 664]\n"
     ]
    },
    {
     "data": {
      "text/plain": [
       "3845"
      ]
     },
     "execution_count": 185,
     "metadata": {},
     "output_type": "execute_result"
    }
   ],
   "source": [
    "len_row = len(example_matrix[0])\n",
    "len_col = len(example_matrix)\n",
    "\n",
    "def get_number_in_that_row(j, idx, row):\n",
    "\n",
    "    numbers_string_list = []\n",
    "\n",
    "    j1, j2 = j, j\n",
    "    while j1 >= 0 and row[j1-1+idx].isdigit(): \n",
    "        numbers_string_list.insert(0, row[j1-1+idx])\n",
    "        j1 -= 1\n",
    "\n",
    "    while j2+1 < len_row and row[j2+idx].isdigit():\n",
    "        numbers_string_list.append(row[j2+idx])\n",
    "        j2 += 1\n",
    "\n",
    "    number_integer = ''.join(numbers_string_list)\n",
    "\n",
    "    return number_integer\n",
    "\n",
    "\n",
    "def filter_slider(i, j):\n",
    "    # slicing index instead of exact index\n",
    "\n",
    "    all_numbers_list = []\n",
    "\n",
    "    if i > 0:\n",
    "        ups = example_matrix[i-1][max(j-1, 0):min(j+2, len_row)]\n",
    "        for idx, up in enumerate(ups):\n",
    "            all_up_row = example_matrix[i-1]\n",
    "            if up.isdigit():\n",
    "                number_integer = get_number_in_that_row(j, idx - (j - 1), all_up_row)\n",
    "                if number_integer.isdigit():\n",
    "                    all_numbers_list.append(int(number_integer))\n",
    "\n",
    "\n",
    "    mids = example_matrix[i][max(j-1, 0):min(j+2, len_row)]\n",
    "    for idx, mid in enumerate(mids):\n",
    "        all_mid_row = example_matrix[i]\n",
    "        if mid.isdigit():\n",
    "            number_integer = get_number_in_that_row(j, idx - (j - 1), all_mid_row)\n",
    "            if number_integer.isdigit():\n",
    "                all_numbers_list.append(int(number_integer))\n",
    "\n",
    "\n",
    "    if i < len_col - 1:\n",
    "        bots = example_matrix[i+1][max(j-1, 0):min(j+2, len_row)]\n",
    "        for idx, bot in enumerate(bots):\n",
    "            all_bot_row = example_matrix[i+1]\n",
    "            if bot.isdigit():\n",
    "                number_integer = get_number_in_that_row(j, idx - (j - 1), all_bot_row)\n",
    "                if number_integer.isdigit():\n",
    "                    all_numbers_list.append(int(number_integer))\n",
    "\n",
    "    print(all_numbers_list)\n",
    "    return all_numbers_list\n",
    "\n",
    "\n",
    "sum_dups = 0\n",
    "\n",
    "for i, row in enumerate(example_matrix):\n",
    "    for j, entry in enumerate(row):\n",
    "        if not entry.isdigit() and entry != '.':\n",
    "            print(entry)\n",
    "            set_numbers_of_this_ij = filter_slider(i, j)\n",
    "            sum_dups += sum(set_numbers_of_this_ij)\n",
    "            \n",
    "\n",
    "sum_dups"
   ]
  },
  {
   "cell_type": "code",
   "execution_count": 187,
   "metadata": {},
   "outputs": [
    {
     "data": {
      "text/plain": [
       "4361"
      ]
     },
     "execution_count": 187,
     "metadata": {},
     "output_type": "execute_result"
    }
   ],
   "source": [
    "len_row = len(example_matrix[0])\n",
    "len_col = len(example_matrix)\n",
    "\n",
    "def get_number_in_that_row(j, idx, row):\n",
    "    numbers_string_list = []\n",
    "\n",
    "    j1 = j + idx - 1\n",
    "    while j1 >= 0 and row[j1].isdigit():\n",
    "        numbers_string_list.insert(0, row[j1])\n",
    "        j1 -= 1\n",
    "\n",
    "    j2 = j + idx\n",
    "    while j2 < len_row and row[j2].isdigit():\n",
    "        numbers_string_list.append(row[j2])\n",
    "        j2 += 1\n",
    "\n",
    "    number_integer = ''.join(numbers_string_list)\n",
    "    return number_integer\n",
    "\n",
    "def filter_slider(i, j):\n",
    "    all_numbers_list = []\n",
    "\n",
    "    if i > 0:\n",
    "        ups = example_matrix[i-1][max(j-1, 0):min(j+2, len_row)]\n",
    "        for idx, up in enumerate(ups):\n",
    "            all_up_row = example_matrix[i-1]\n",
    "            if up.isdigit():\n",
    "                number_integer = get_number_in_that_row(j, idx - 1, all_up_row)\n",
    "                if number_integer.isdigit():\n",
    "                    all_numbers_list.append(int(number_integer))\n",
    "\n",
    "    mids = example_matrix[i][max(j-1, 0):min(j+2, len_row)]\n",
    "    for idx, mid in enumerate(mids):\n",
    "        all_mid_row = example_matrix[i]\n",
    "        if mid.isdigit():\n",
    "            number_integer = get_number_in_that_row(j, idx - 1, all_mid_row)\n",
    "            if number_integer.isdigit():\n",
    "                all_numbers_list.append(int(number_integer))\n",
    "\n",
    "    if i < len_col - 1:\n",
    "        bots = example_matrix[i+1][max(j-1, 0):min(j+2, len_row)]\n",
    "        for idx, bot in enumerate(bots):\n",
    "            all_bot_row = example_matrix[i+1]\n",
    "            if bot.isdigit():\n",
    "                number_integer = get_number_in_that_row(j, idx - 1, all_bot_row)\n",
    "                if number_integer.isdigit():\n",
    "                    all_numbers_list.append(int(number_integer))\n",
    "\n",
    "    return all_numbers_list\n",
    "\n",
    "sum_dups = 0\n",
    "\n",
    "for i, row in enumerate(example_matrix):\n",
    "    for j, entry in enumerate(row):\n",
    "        if not entry.isdigit() and entry != '.':\n",
    "            set_numbers_of_this_ij = filter_slider(i, j)\n",
    "            sum_dups += sum(set(set_numbers_of_this_ij))\n",
    "\n",
    "sum_dups\n"
   ]
  },
  {
   "cell_type": "code",
   "execution_count": 189,
   "metadata": {},
   "outputs": [
    {
     "data": {
      "text/plain": [
       "869344"
      ]
     },
     "execution_count": 189,
     "metadata": {},
     "output_type": "execute_result"
    }
   ],
   "source": [
    "# part 1\n",
    "\n",
    "with open('input.txt', 'r') as f:\n",
    "    ipt = [line.strip() for line in f.readlines()]\n",
    "\n",
    "# split to get array of array or list of list (look like a matrix)\n",
    "ipt = [list(line) for line in ipt]\n",
    "\n",
    "\n",
    "\n",
    "len_row = len(ipt[0])\n",
    "len_col = len(ipt)\n",
    "\n",
    "def get_number_in_that_row(j, idx, row):\n",
    "    numbers_string_list = []\n",
    "\n",
    "    j1 = j + idx - 1\n",
    "    while j1 >= 0 and row[j1].isdigit():\n",
    "        numbers_string_list.insert(0, row[j1])\n",
    "        j1 -= 1\n",
    "\n",
    "    j2 = j + idx\n",
    "    while j2 < len_row and row[j2].isdigit():\n",
    "        numbers_string_list.append(row[j2])\n",
    "        j2 += 1\n",
    "\n",
    "    number_integer = ''.join(numbers_string_list)\n",
    "    return number_integer\n",
    "\n",
    "def filter_slider(i, j):\n",
    "    all_numbers_list = []\n",
    "\n",
    "    if i > 0:\n",
    "        ups = ipt[i-1][max(j-1, 0):min(j+2, len_row)]\n",
    "        for idx, up in enumerate(ups):\n",
    "            all_up_row = ipt[i-1]\n",
    "            if up.isdigit():\n",
    "                number_integer = get_number_in_that_row(j, idx - 1, all_up_row)\n",
    "                if number_integer.isdigit():\n",
    "                    all_numbers_list.append(int(number_integer))\n",
    "\n",
    "    mids = ipt[i][max(j-1, 0):min(j+2, len_row)]\n",
    "    for idx, mid in enumerate(mids):\n",
    "        all_mid_row = ipt[i]\n",
    "        if mid.isdigit():\n",
    "            number_integer = get_number_in_that_row(j, idx - 1, all_mid_row)\n",
    "            if number_integer.isdigit():\n",
    "                all_numbers_list.append(int(number_integer))\n",
    "\n",
    "    if i < len_col - 1:\n",
    "        bots = ipt[i+1][max(j-1, 0):min(j+2, len_row)]\n",
    "        for idx, bot in enumerate(bots):\n",
    "            all_bot_row = ipt[i+1]\n",
    "            if bot.isdigit():\n",
    "                number_integer = get_number_in_that_row(j, idx - 1, all_bot_row)\n",
    "                if number_integer.isdigit():\n",
    "                    all_numbers_list.append(int(number_integer))\n",
    "\n",
    "    return all_numbers_list\n",
    "\n",
    "sum_dups = 0\n",
    "\n",
    "for i, row in enumerate(ipt):\n",
    "    for j, entry in enumerate(row):\n",
    "        if not entry.isdigit() and entry != '.':\n",
    "            numbers_of_this_ij = filter_slider(i, j)\n",
    "            sum_dups += sum(numbers_of_this_ij)\n",
    "\n",
    "sum_dups\n"
   ]
  },
  {
   "cell_type": "code",
   "execution_count": 193,
   "metadata": {},
   "outputs": [
    {
     "name": "stdout",
     "output_type": "stream",
     "text": [
      "22840\n"
     ]
    }
   ],
   "source": [
    "# Read input\n",
    "with open('input.txt', 'r') as f:\n",
    "    ipt = [line.strip() for line in f.readlines()]\n",
    "\n",
    "# Convert to matrix form\n",
    "ipt = [list(line) for line in ipt]\n",
    "\n",
    "len_row = len(ipt[0])\n",
    "len_col = len(ipt)\n",
    "\n",
    "def get_numbers_in_3x3_window(i, j):\n",
    "    numbers = []\n",
    "\n",
    "    # Process a 3x3 window around the (i, j) cell\n",
    "    for di in range(-1, 2):\n",
    "        for dj in range(-1, 2):\n",
    "            ni, nj = i + di, j + dj\n",
    "            if 0 <= ni < len_col and 0 <= nj < len_row:\n",
    "                cell_value = ipt[ni][nj]\n",
    "                if cell_value.isdigit():\n",
    "                    # Extract the number using a helper function\n",
    "                    for c in range(nj - 1, -1, -1):\n",
    "                        if ipt[ni][c].isdigit():\n",
    "                            numbers.append(ipt[ni][c])\n",
    "                        else:\n",
    "                            break\n",
    "                    for c in range(nj, len_row):\n",
    "                        if ipt[ni][c].isdigit():\n",
    "                            numbers.append(ipt[ni][c])\n",
    "                        else:\n",
    "                            break\n",
    "\n",
    "    # Convert the gathered numbers into integer list and return\n",
    "    return list(map(int, ''.join(numbers)))\n",
    "\n",
    "sum_dups = 0\n",
    "\n",
    "# Traverse through each cell in the matrix\n",
    "for i in range(len_col):\n",
    "    for j in range(len_row):\n",
    "        if not ipt[i][j].isdigit() and ipt[i][j] != '.':\n",
    "            numbers = get_numbers_in_3x3_window(i, j)\n",
    "            sum_dups += sum(numbers)\n",
    "\n",
    "print(sum_dups)\n"
   ]
  }
 ],
 "metadata": {
  "kernelspec": {
   "display_name": "venv",
   "language": "python",
   "name": "python3"
  },
  "language_info": {
   "codemirror_mode": {
    "name": "ipython",
    "version": 3
   },
   "file_extension": ".py",
   "mimetype": "text/x-python",
   "name": "python",
   "nbconvert_exporter": "python",
   "pygments_lexer": "ipython3",
   "version": "3.11.4"
  }
 },
 "nbformat": 4,
 "nbformat_minor": 2
}
