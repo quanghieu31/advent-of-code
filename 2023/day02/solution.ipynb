{
 "cells": [
  {
   "cell_type": "code",
   "execution_count": 1,
   "metadata": {},
   "outputs": [
    {
     "data": {
      "text/plain": [
       "'c:\\\\Users\\\\ASUS\\\\pprojects\\\\adventofcode\\\\2023\\\\day2'"
      ]
     },
     "execution_count": 1,
     "metadata": {},
     "output_type": "execute_result"
    }
   ],
   "source": [
    "import os\n",
    "os.getcwd()"
   ]
  },
  {
   "cell_type": "code",
   "execution_count": 2,
   "metadata": {},
   "outputs": [],
   "source": [
    "# for each game => get all blues, all reds, and all blues\n",
    "# what data structure?\n",
    "# loop through and check "
   ]
  },
  {
   "cell_type": "code",
   "execution_count": 3,
   "metadata": {},
   "outputs": [
    {
     "data": {
      "text/plain": [
       "['Game 1: 4 red, 5 blue, 4 green; 7 red, 8 blue, 2 green; 9 blue, 6 red; 1 green, 3 red, 7 blue; 3 green, 7 red',\n",
       " 'Game 2: 20 blue, 12 green, 2 red; 1 red, 2 green, 20 blue; 1 red, 14 green, 17 blue; 7 green, 17 blue',\n",
       " 'Game 3: 3 green, 4 red; 10 red, 2 blue, 5 green; 9 red, 3 blue, 5 green',\n",
       " 'Game 4: 10 green, 1 blue, 3 red; 1 red, 12 green, 1 blue; 1 blue, 2 green; 4 green, 3 red',\n",
       " 'Game 5: 3 green, 8 red, 1 blue; 4 blue, 7 red, 3 green; 2 green, 2 blue, 13 red']"
      ]
     },
     "execution_count": 3,
     "metadata": {},
     "output_type": "execute_result"
    }
   ],
   "source": [
    "# dictionary examplars\n",
    "\n",
    "input = 'input.txt'\n",
    "with open(input, 'r') as f:\n",
    "    lines = [line.strip() for line in f.readlines()]\n",
    "\n",
    "lines[:5]"
   ]
  },
  {
   "cell_type": "code",
   "execution_count": 4,
   "metadata": {},
   "outputs": [
    {
     "data": {
      "text/plain": [
       "['4 red, 5 blue, 4 green',\n",
       " ' 7 red, 8 blue, 2 green',\n",
       " ' 9 blue, 6 red',\n",
       " ' 1 green, 3 red, 7 blue',\n",
       " ' 3 green, 7 red']"
      ]
     },
     "execution_count": 4,
     "metadata": {},
     "output_type": "execute_result"
    }
   ],
   "source": [
    "ex1 = 'Game 1: 4 red, 5 blue, 4 green; 7 red, 8 blue, 2 green; 9 blue, 6 red; 1 green, 3 red, 7 blue; 3 green, 7 red'\n",
    "\n",
    "# split game id vs rest\n",
    "game_id = int(ex1.split(':')[0][-1])\n",
    "\n",
    "# split different sets of cubes\n",
    "subsets_string = ex1.split(':')[1].strip()\n",
    "subsets_list = subsets_string.split(';')\n",
    "\n",
    "subsets_list"
   ]
  },
  {
   "cell_type": "code",
   "execution_count": 5,
   "metadata": {},
   "outputs": [],
   "source": [
    "ex11 = '4 red, 5 blue, 4 green'\n",
    "\n",
    "subset = [s.strip() for s in ex11.split(',')]\n",
    "for cube in subset: \n",
    "    count, color = cube[0], cube[1:]"
   ]
  },
  {
   "cell_type": "code",
   "execution_count": 6,
   "metadata": {},
   "outputs": [
    {
     "data": {
      "text/plain": [
       "{1: {'red': 27, 'blue': 29, 'green': 10}}"
      ]
     },
     "execution_count": 6,
     "metadata": {},
     "output_type": "execute_result"
    }
   ],
   "source": [
    "records = {}\n",
    "\n",
    "subset_record = {}\n",
    "for subset in subsets_list:\n",
    "    subset = [s.strip() for s in subset.split(',')]\n",
    "    for cube in subset: \n",
    "        count, color = int(cube[0]), cube[1:].strip()\n",
    "        if not subset_record.get(color, False):\n",
    "            subset_record[color] = count\n",
    "        else:\n",
    "            subset_record[color] += count\n",
    "\n",
    "records[game_id] = subset_record\n",
    "\n",
    "records"
   ]
  },
  {
   "cell_type": "code",
   "execution_count": null,
   "metadata": {},
   "outputs": [],
   "source": []
  },
  {
   "cell_type": "code",
   "execution_count": 7,
   "metadata": {},
   "outputs": [
    {
     "data": {
      "text/plain": [
       "['Game 1: 4 red, 5 blue, 4 green; 7 red, 8 blue, 2 green; 9 blue, 6 red; 1 green, 3 red, 7 blue; 3 green, 7 red',\n",
       " 'Game 2: 20 blue, 12 green, 2 red; 1 red, 2 green, 20 blue; 1 red, 14 green, 17 blue; 7 green, 17 blue',\n",
       " 'Game 3: 3 green, 4 red; 10 red, 2 blue, 5 green; 9 red, 3 blue, 5 green',\n",
       " 'Game 4: 10 green, 1 blue, 3 red; 1 red, 12 green, 1 blue; 1 blue, 2 green; 4 green, 3 red',\n",
       " 'Game 5: 3 green, 8 red, 1 blue; 4 blue, 7 red, 3 green; 2 green, 2 blue, 13 red']"
      ]
     },
     "execution_count": 7,
     "metadata": {},
     "output_type": "execute_result"
    }
   ],
   "source": [
    "lines[:5]"
   ]
  },
  {
   "cell_type": "code",
   "execution_count": 29,
   "metadata": {},
   "outputs": [
    {
     "data": {
      "text/plain": [
       "10"
      ]
     },
     "execution_count": 29,
     "metadata": {},
     "output_type": "execute_result"
    }
   ],
   "source": [
    "ex2 = 'Game 10: 4 red, 5 blue, 4 green; 7 red, 8 blue, 2 green; 9 blue, 6 red; 1 green, 3 red, 7 blue; 3 green, 7 red'\n",
    "\n",
    "int(ex1.split(':')[0][-1])\n",
    "\n",
    "int(ex2.split(':')[0].split(' ')[-1])"
   ]
  },
  {
   "cell_type": "code",
   "execution_count": 94,
   "metadata": {},
   "outputs": [],
   "source": [
    "input = 'input.txt'\n",
    "with open(input, 'r') as f:\n",
    "    lines = [line.strip() for line in f.readlines()]\n",
    "\n",
    "\n",
    "sum_game_ids = 0\n",
    "\n",
    "for line in lines:\n",
    "    # split game id vs rest\n",
    "    game_id = int(line.split(':')[0].split(' ')[-1])\n",
    "\n",
    "    # split different sets of cubes\n",
    "    subsets_string = line.split(':')[1].strip()\n",
    "    subsets_list = subsets_string.split(';')\n",
    "\n",
    "    subset_qualification = True\n",
    "\n",
    "    for subset in subsets_list:\n",
    "        subset = [s.strip() for s in subset.split(',')]\n",
    "\n",
    "        # in this subset (among many subsets in the game id)\n",
    "        for cube in subset: \n",
    "            count, color = int(cube.split(' ')[0]), cube.split(' ')[1]\n",
    "\n",
    "            if color == 'red' and count > 12 or color == 'green' and count > 13 or color == 'blue' and count > 14:\n",
    "                subset_qualification = False\n",
    "                break # violation: exit the for cube in subset: the subset is done, \n",
    "                        # meaning: entire subsets_list is done => bye\n",
    "            \n",
    "        # then move on to check the subset_qualification for this subset\n",
    "        # to break entirely the subsets_list iteration\n",
    "        # If false, done with this subsets_list => move on to next game_id\n",
    "        # if still true, not break the subset_list iteration yet and continue with next subset\n",
    "        if not subset_qualification: \n",
    "            break\n",
    "\n",
    "    if subset_qualification:\n",
    "        sum_game_ids += game_id"
   ]
  },
  {
   "cell_type": "code",
   "execution_count": 95,
   "metadata": {},
   "outputs": [
    {
     "data": {
      "text/plain": [
       "2061"
      ]
     },
     "execution_count": 95,
     "metadata": {},
     "output_type": "execute_result"
    }
   ],
   "source": [
    "sum_game_ids"
   ]
  },
  {
   "cell_type": "code",
   "execution_count": 68,
   "metadata": {},
   "outputs": [
    {
     "data": {
      "text/plain": [
       "{1: {'red': 27, 'blue': 29, 'green': 10},\n",
       " 2: {'blue': 74, 'green': 35, 'red': 4},\n",
       " 3: {'green': 13, 'red': 23, 'blue': 5},\n",
       " 4: {'green': 28, 'blue': 3, 'red': 7},\n",
       " 5: {'green': 8, 'red': 28, 'blue': 7},\n",
       " 6: {'green': 3, 'red': 12, 'blue': 35},\n",
       " 7: {'red': 49, 'green': 55, 'blue': 28},\n",
       " 8: {'red': 39, 'green': 42, 'blue': 12},\n",
       " 9: {'red': 66, 'green': 31, 'blue': 19},\n",
       " 10: {'green': 24, 'blue': 40, 'red': 44},\n",
       " 11: {'blue': 16, 'red': 56, 'green': 26},\n",
       " 12: {'blue': 2, 'green': 20, 'red': 9},\n",
       " 13: {'blue': 16, 'red': 39, 'green': 27},\n",
       " 14: {'blue': 34, 'red': 7, 'green': 11},\n",
       " 15: {'blue': 33, 'red': 34, 'green': 19},\n",
       " 16: {'green': 8, 'red': 16, 'blue': 11},\n",
       " 17: {'blue': 26, 'green': 18, 'red': 33},\n",
       " 18: {'green': 14, 'blue': 40, 'red': 29},\n",
       " 19: {'green': 16, 'blue': 43, 'red': 34},\n",
       " 20: {'red': 9, 'green': 30, 'blue': 22},\n",
       " 21: {'blue': 28, 'green': 29, 'red': 35},\n",
       " 22: {'red': 32, 'blue': 54, 'green': 44},\n",
       " 23: {'red': 43, 'blue': 21, 'green': 1},\n",
       " 24: {'green': 17, 'blue': 57, 'red': 48},\n",
       " 25: {'blue': 15, 'green': 37, 'red': 10},\n",
       " 26: {'blue': 20, 'green': 6, 'red': 1},\n",
       " 27: {'blue': 7, 'red': 13, 'green': 43},\n",
       " 28: {'green': 38, 'blue': 8, 'red': 58},\n",
       " 29: {'red': 16, 'green': 67, 'blue': 34},\n",
       " 30: {'red': 17, 'green': 51, 'blue': 8},\n",
       " 31: {'blue': 20, 'red': 8, 'green': 11},\n",
       " 32: {'green': 55, 'blue': 6, 'red': 34},\n",
       " 33: {'red': 6, 'green': 6, 'blue': 14},\n",
       " 34: {'green': 48, 'red': 8, 'blue': 3},\n",
       " 35: {'blue': 48, 'green': 6, 'red': 7},\n",
       " 36: {'green': 42, 'red': 8, 'blue': 1},\n",
       " 37: {'red': 16, 'blue': 7, 'green': 23},\n",
       " 38: {'red': 41, 'green': 18, 'blue': 1},\n",
       " 39: {'blue': 32, 'red': 10, 'green': 15},\n",
       " 40: {'green': 5, 'blue': 19, 'red': 9},\n",
       " 41: {'red': 43, 'green': 23, 'blue': 34},\n",
       " 42: {'red': 28, 'blue': 33, 'green': 49},\n",
       " 43: {'green': 42, 'red': 48, 'blue': 33},\n",
       " 44: {'blue': 30, 'green': 46, 'red': 21},\n",
       " 45: {'blue': 32, 'green': 30, 'red': 36},\n",
       " 46: {'green': 44, 'blue': 16, 'red': 45},\n",
       " 47: {'blue': 11, 'green': 37, 'red': 39},\n",
       " 48: {'blue': 15, 'red': 23, 'green': 9},\n",
       " 49: {'green': 30, 'blue': 26, 'red': 56},\n",
       " 50: {'green': 25, 'red': 38, 'blue': 43},\n",
       " 51: {'green': 10, 'red': 37, 'blue': 2},\n",
       " 52: {'red': 13, 'green': 20, 'blue': 35},\n",
       " 53: {'blue': 4, 'red': 62, 'green': 13},\n",
       " 54: {'red': 12, 'blue': 23, 'green': 1},\n",
       " 55: {'red': 4, 'green': 10, 'blue': 8},\n",
       " 56: {'blue': 21, 'green': 21, 'red': 15},\n",
       " 57: {'green': 61, 'blue': 83, 'red': 17},\n",
       " 58: {'green': 26, 'blue': 14, 'red': 6},\n",
       " 59: {'green': 18, 'blue': 43, 'red': 17},\n",
       " 60: {'red': 30, 'green': 23, 'blue': 7},\n",
       " 61: {'green': 24, 'blue': 14, 'red': 3},\n",
       " 62: {'green': 22, 'blue': 45, 'red': 31},\n",
       " 63: {'red': 29, 'green': 19, 'blue': 24},\n",
       " 64: {'red': 29, 'green': 10, 'blue': 19},\n",
       " 65: {'blue': 6, 'green': 52, 'red': 2},\n",
       " 66: {'red': 34, 'blue': 14, 'green': 7},\n",
       " 67: {'green': 5, 'red': 49, 'blue': 35},\n",
       " 68: {'green': 17, 'red': 33, 'blue': 39},\n",
       " 69: {'green': 52, 'blue': 35, 'red': 45},\n",
       " 70: {'green': 33, 'red': 28, 'blue': 17},\n",
       " 71: {'blue': 15, 'red': 14, 'green': 9},\n",
       " 72: {'green': 6, 'red': 14, 'blue': 4},\n",
       " 73: {'blue': 39, 'green': 48, 'red': 14},\n",
       " 74: {'green': 24, 'blue': 2, 'red': 14},\n",
       " 75: {'red': 65, 'blue': 10, 'green': 3},\n",
       " 76: {'blue': 34, 'green': 26, 'red': 2},\n",
       " 77: {'red': 11, 'blue': 15, 'green': 45},\n",
       " 78: {'blue': 19, 'green': 15, 'red': 12},\n",
       " 79: {'green': 40, 'red': 24, 'blue': 4},\n",
       " 80: {'blue': 8, 'red': 23, 'green': 50},\n",
       " 81: {'blue': 43, 'red': 61, 'green': 22},\n",
       " 82: {'blue': 24, 'red': 7, 'green': 15},\n",
       " 83: {'red': 17, 'green': 34, 'blue': 26},\n",
       " 84: {'red': 8, 'green': 16, 'blue': 34},\n",
       " 85: {'red': 22, 'blue': 25, 'green': 69},\n",
       " 86: {'red': 34, 'blue': 12, 'green': 16},\n",
       " 87: {'blue': 71, 'green': 7, 'red': 24},\n",
       " 88: {'green': 63, 'red': 45, 'blue': 32},\n",
       " 89: {'blue': 48, 'green': 28, 'red': 8},\n",
       " 90: {'blue': 20, 'red': 35, 'green': 7},\n",
       " 91: {'blue': 31, 'red': 20, 'green': 59},\n",
       " 92: {'green': 27, 'red': 35, 'blue': 19},\n",
       " 93: {'blue': 38, 'red': 8, 'green': 10},\n",
       " 94: {'green': 34, 'red': 45, 'blue': 38},\n",
       " 95: {'red': 6, 'green': 13, 'blue': 30},\n",
       " 96: {'green': 18, 'red': 2, 'blue': 15},\n",
       " 97: {'green': 30, 'red': 40, 'blue': 30},\n",
       " 98: {'green': 18, 'red': 33, 'blue': 2},\n",
       " 99: {'blue': 32, 'green': 22, 'red': 12},\n",
       " 100: {'blue': 13, 'green': 2, 'red': 60}}"
      ]
     },
     "execution_count": 68,
     "metadata": {},
     "output_type": "execute_result"
    }
   ],
   "source": [
    "records"
   ]
  },
  {
   "cell_type": "code",
   "execution_count": null,
   "metadata": {},
   "outputs": [],
   "source": []
  },
  {
   "cell_type": "code",
   "execution_count": 96,
   "metadata": {},
   "outputs": [],
   "source": [
    "# part 2"
   ]
  },
  {
   "cell_type": "code",
   "execution_count": 136,
   "metadata": {},
   "outputs": [],
   "source": [
    "from functools import reduce\n",
    "\n",
    "input = 'input.txt'\n",
    "with open(input, 'r') as f:\n",
    "    lines = [line.strip() for line in f.readlines()]\n",
    "\n",
    "\n",
    "def mul(x, y):\n",
    "    return x * y\n",
    "\n",
    "\n",
    "power_all_games = 0\n",
    "\n",
    "for line in lines:\n",
    "\n",
    "    # split different sets of cubes\n",
    "    subsets_string = line.split(':')[1].strip()\n",
    "    subsets_list = subsets_string.split(';')\n",
    "\n",
    "    cube_color_min = {}\n",
    "    for subset in subsets_list:\n",
    "        subset = [s.strip() for s in subset.split(',')]\n",
    "\n",
    "        # in this subset (among many subsets in the game id)\n",
    "        for cube in subset: \n",
    "            cur_count, color = int(cube.split(' ')[0]), cube.split(' ')[1]\n",
    "            prev_count = cube_color_min.get(color, 0)\n",
    "            cube_color_min[color] = max(prev_count, cur_count)\n",
    "\n",
    "    power_all_games += reduce(mul, cube_color_min.values())\n",
    "\n"
   ]
  },
  {
   "cell_type": "code",
   "execution_count": 137,
   "metadata": {},
   "outputs": [
    {
     "data": {
      "text/plain": [
       "72596"
      ]
     },
     "execution_count": 137,
     "metadata": {},
     "output_type": "execute_result"
    }
   ],
   "source": [
    "power_all_games"
   ]
  },
  {
   "cell_type": "code",
   "execution_count": 135,
   "metadata": {},
   "outputs": [
    {
     "name": "stdout",
     "output_type": "stream",
     "text": [
      "48\n",
      "48\n",
      "12\n",
      "60\n",
      "1560\n",
      "1620\n",
      "630\n",
      "2250\n",
      "36\n",
      "2286\n"
     ]
    }
   ],
   "source": [
    "from functools import reduce\n",
    "\n",
    "input = 'example.txt'\n",
    "with open(input, 'r') as f:\n",
    "    lines = [line.strip() for line in f.readlines()]\n",
    "\n",
    "\n",
    "def mul(x, y):\n",
    "    return x * y\n",
    "\n",
    "\n",
    "power_all_games = 0\n",
    "\n",
    "for line in lines:\n",
    "\n",
    "    # split different sets of cubes\n",
    "    subsets_string = line.split(':')[1].strip()\n",
    "    subsets_list = subsets_string.split(';')\n",
    "\n",
    "    cube_color_min = {}\n",
    "    for subset in subsets_list:\n",
    "        subset = [s.strip() for s in subset.split(',')]\n",
    "\n",
    "        # in this subset (among many subsets in the game id)\n",
    "        for cube in subset: \n",
    "            cur_count, color = int(cube.split(' ')[0]), cube.split(' ')[1]\n",
    "            prev_count = cube_color_min.get(color, 0)\n",
    "            cube_color_min[color] = max(prev_count, cur_count)\n",
    "\n",
    "    print(reduce(mul, cube_color_min.values()))\n",
    "    power_all_games += reduce(mul, cube_color_min.values())\n",
    "    print(power_all_games)\n",
    "\n"
   ]
  },
  {
   "cell_type": "code",
   "execution_count": 133,
   "metadata": {},
   "outputs": [
    {
     "data": {
      "text/plain": [
       "2286"
      ]
     },
     "execution_count": 133,
     "metadata": {},
     "output_type": "execute_result"
    }
   ],
   "source": [
    "power_all_games"
   ]
  }
 ],
 "metadata": {
  "kernelspec": {
   "display_name": "venv",
   "language": "python",
   "name": "python3"
  },
  "language_info": {
   "codemirror_mode": {
    "name": "ipython",
    "version": 3
   },
   "file_extension": ".py",
   "mimetype": "text/x-python",
   "name": "python",
   "nbconvert_exporter": "python",
   "pygments_lexer": "ipython3",
   "version": "3.11.4"
  }
 },
 "nbformat": 4,
 "nbformat_minor": 2
}
